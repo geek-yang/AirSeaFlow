{
 "cells": [
  {
   "cell_type": "markdown",
   "metadata": {},
   "source": [
    "# Copyright Netherlands eScience Center <br>\n",
    "** Function     : Lead/Lag regression and energy budget - AMET (ERAI, MERRA2 and JRA55) & OMET (ORAS4) ** <br>\n",
    "** Author       : Yang Liu ** <br>\n",
    "** First Built  : 2018.09.24 ** <br>\n",
    "** Last Update  : 2019.10.14 ** <br>\n",
    "Description  : This script serves to investigate the compensation between energy transport in the atmosphere and ocean. It works with AMET and OMET estimated from ERA-Interim and ORAS4. Lead/lag regressions are performed to check the compensation.<br>\n",
    "Return Values : jpeg <br>\n",
    "Caveat : The AMET is computed as the residual of net flux at TOA & surface. <br>"
   ]
  },
  {
   "cell_type": "code",
   "execution_count": 1,
   "metadata": {},
   "outputs": [],
   "source": [
    "%matplotlib inline\n",
    "\n",
    "import sys\n",
    "sys.path.append(\"/home/ESLT0068/NLeSC/Computation_Modeling/Bjerknes/Scripts/META\")\n",
    "import numpy as np\n",
    "import scipy\n",
    "from netCDF4 import Dataset\n",
    "import matplotlib\n",
    "import matplotlib.pyplot as plt\n",
    "import os\n",
    "import meta.statistics\n",
    "import meta.visualizer"
   ]
  },
  {
   "cell_type": "markdown",
   "metadata": {},
   "source": [
    "Initialization - Start with location of input and extraction of variables\n",
    "Time span of each product:\n",
    "- **ERA-Interim** 1979 - 2016\n",
    "- **MERRA2**      1980 - 2016\n",
    "- **JRA55**       1979 - 2015\n",
    "- **ORAS4**       1958 - 2017\n",
    "- **GLORYS2V3**   1993 - 2014\n",
    "- **SODA3**       1980 - 2015"
   ]
  },
  {
   "cell_type": "code",
   "execution_count": 2,
   "metadata": {},
   "outputs": [],
   "source": [
    "# constants\n",
    "constant = {'g' : 9.80616,      # gravititional acceleration [m / s2]\n",
    "            'R' : 6371009,      # radius of the earth [m]\n",
    "            'cp': 1004.64,      # heat capacity of air [J/(Kg*K)]\n",
    "            'Lv': 2264670,      # Latent heat of vaporization [J/Kg]\n",
    "            'R_dry' : 286.9,    # gas constant of dry air [J/(kg*K)]\n",
    "            'R_vap' : 461.5,    # gas constant for water vapour [J/(kg*K)]\n",
    "            'HoF' : 334,        # heat of fusion of ice [KJ/Kg] \n",
    "            'rho_ice' : 0.91    # density of sea ice [g/cm3]\n",
    "            }"
   ]
  },
  {
   "cell_type": "code",
   "execution_count": 3,
   "metadata": {},
   "outputs": [
    {
     "name": "stdout",
     "output_type": "stream",
     "text": [
      "*********************** extract variables *************************\n"
     ]
    }
   ],
   "source": [
    "if __name__==\"__main__\":\n",
    "    # sample\n",
    "    ################################   Input zone  ######################################\n",
    "    # specify data path\n",
    "    datapath = '/home/ESLT0068/WorkFlow/Core_Database_AMET_OMET_reanalysis/warehouse_met'\n",
    "    datapath_ERAI_fields = '/home/ESLT0068/WorkFlow/Core_Database_AMET_OMET_reanalysis/ERAI/regression'\n",
    "    datapath_MERRA2_fields = '/home/ESLT0068/WorkFlow/Core_Database_AMET_OMET_reanalysis/MERRA2/regression'\n",
    "    datapath_JRA55_fields = '/home/ESLT0068/WorkFlow/Core_Database_AMET_OMET_reanalysis/JRA55/regression'\n",
    "    output_path = '/home/ESLT0068/NLeSC/PhD/Paperwork/Article/MET_Feedback/figures/revision/subFigures'\n",
    "    #####################################################################################\n",
    "    print ('*********************** extract variables *************************')\n",
    "    dataset_ERAI_fields_flux = Dataset(os.path.join(datapath_ERAI_fields,\n",
    "                                                    'surface_erai_monthly_regress_1979_2017_radiation.nc'))\n",
    "    dataset_MERRA2_fields_flux = Dataset(os.path.join(datapath_MERRA2_fields,\n",
    "                                                      'surface_merra_monthly_regress_1980_2017_SFlux_Rad.nc'))\n",
    "    dataset_JRA55_fields_flux = Dataset(os.path.join(datapath_JRA55_fields,\n",
    "                                                     'surface_JRA55_monthly_model_regress_SFlux_Rad_1979_2013.nc'))\n",
    "    #dataset_ERAI_AMET = Dataset(os.path.join(datapath,\n",
    "    #                            'era_model_subdaily_1979_2016_amet.nc'))\n",
    "    dataset_ORAS4_OMET = Dataset(os.path.join(datapath,\n",
    "                                 'oras_model_monthly_1958_2017_omet.nc'))\n",
    "    # extract time series from 1979 to 2016\n",
    "    # from 20N - 90N\n",
    "    # 3D fields [year, month, lat]\n",
    "    # since OMET is from 20N - 90N, AMET is from 90N to 20N, we have to reverse it\n",
    "    # for interpolation, x should be monotonically increasing\n",
    "    # 3D fields [year, month, lat]\n",
    "    OMET_int_ORAS4 = dataset_ORAS4_OMET.variables['E_int'][21:-1,:,180:]/1000 # from Tera Watt to Peta Watt # start from 1979\n",
    "    OMET_atl_int_ORAS4 = dataset_ORAS4_OMET.variables['E_atl_int'][21:-1,:,180:]/1000\n",
    "    #OMET_atl_100_int_ORAS4 = dataset_ORAS4_OMET.variables['E_atl_100_int'][21:-1,:,180:]/1000\n",
    "    #OMET_atl_300_int_ORAS4 = dataset_ORAS4_OMET.variables['E_atl_300_int'][21:-1,:,180:]/1000\n",
    "    #OMET_atl_700_int_ORAS4 = dataset_ORAS4_OMET.variables['E_atl_700_int'][21:-1,:,180:]/1000\n",
    "    #OMET_atl_2000_int_ORAS4 = dataset_ORAS4_OMET.variables['E_atl_2000_int'][21:-1,:,180:]/1000\n",
    "    # 3D fields [year, month, lat]\n",
    "    # other dimensions\n",
    "    year_ORAS4 = dataset_ORAS4_OMET.variables['year'][21:-1]    # from 1979 to 2016\n",
    "    latitude_OMET_ORAS4 = dataset_ORAS4_OMET.variables['latitude_aux'][180:]\n",
    "    \n",
    "    latitude_fields_ERAI = dataset_ERAI_fields_flux.variables['latitude'][:]\n",
    "    longitude_fields_ERAI = dataset_ERAI_fields_flux.variables['longitude'][:]\n",
    "    # reverse the latitude of MERRA2 fields\n",
    "    latitude_fields_MERRA2 = dataset_MERRA2_fields_flux.variables['latitude'][::-1]\n",
    "    longitude_fields_MERRA2 = dataset_MERRA2_fields_flux.variables['longitude'][:]\n",
    "    latitude_fields_JRA55 = dataset_JRA55_fields_flux.variables['latitude'][:]\n",
    "    longitude_fields_JRA55 = dataset_JRA55_fields_flux.variables['longitude'][:]"
   ]
  },
  {
   "cell_type": "code",
   "execution_count": 30,
   "metadata": {},
   "outputs": [
    {
     "name": "stdout",
     "output_type": "stream",
     "text": [
      "39.0\n",
      "39.0\n",
      "39.594326\n"
     ]
    }
   ],
   "source": [
    "    print(latitude_fields_ERAI[68])\n",
    "    print(latitude_fields_MERRA2[102])\n",
    "    print(latitude_fields_JRA55[89])"
   ]
  },
  {
   "cell_type": "code",
   "execution_count": 4,
   "metadata": {},
   "outputs": [
    {
     "name": "stdout",
     "output_type": "stream",
     "text": [
      "*********************** post-process 4D fields *************************\n",
      "*********************** post-process era fields *************************\n",
      "*********************** post-process merra fields *************************\n",
      "*********************** post-process jra fields *************************\n",
      "*********************** convert W/m2 to  *************************\n"
     ]
    }
   ],
   "source": [
    "    #####################################################################################\n",
    "    print ('*********************** post-process 4D fields *************************')    \n",
    "    # 4D fields [year, month, level, lat]\n",
    "    # downward is positive for all the fluxes\n",
    "    print ('*********************** post-process era fields *************************')\n",
    "    rad_short_toa_ERAI = dataset_ERAI_fields_flux.variables['tsr'][:-1,:,:,:]\n",
    "    rad_long_toa_ERAI = dataset_ERAI_fields_flux.variables['ttr'][:-1,:,:,:]\n",
    "    rad_short_surf_ERAI = dataset_ERAI_fields_flux.variables['ssr'][:-1,:,:,:]\n",
    "    rad_long_surf_ERAI = dataset_ERAI_fields_flux.variables['str'][:-1,:,:,:]\n",
    "    SFlux_sensible_ERAI = dataset_ERAI_fields_flux.variables['sshf'][:-1,:,:,:]\n",
    "    SFlux_latent_ERAI = dataset_ERAI_fields_flux.variables['slhf'][:-1,:,:,:]\n",
    "    # calculate total net energy flux at TOA/surface\n",
    "    net_flux_surf_ERAI = rad_short_surf_ERAI[:] + rad_long_surf_ERAI[:] +\\\n",
    "                         SFlux_sensible_ERAI[:] + SFlux_latent_ERAI[:]\n",
    "    net_flux_toa_ERAI = rad_short_toa_ERAI[:] + rad_long_toa_ERAI[:]    \n",
    "    # save memory\n",
    "    del rad_short_toa_ERAI, rad_long_toa_ERAI, rad_short_surf_ERAI, rad_long_surf_ERAI\n",
    "    del SFlux_sensible_ERAI, SFlux_latent_ERAI    \n",
    "    print ('*********************** post-process merra fields *************************')\n",
    "    rad_short_toa_MERRA2 = dataset_MERRA2_fields_flux.variables['SWTNT'][:-1,:,:,:]\n",
    "    rad_long_toa_MERRA2 = dataset_MERRA2_fields_flux.variables['LWTUP'][:-1,:,:,:]\n",
    "    rad_short_surf_MERRA2 = dataset_MERRA2_fields_flux.variables['SWGNT'][:-1,:,:,:]\n",
    "    rad_long_surf_MERRA2 = dataset_MERRA2_fields_flux.variables['LWGNT'][:-1,:,:,:]\n",
    "    SFlux_sensible_MERRA2 = dataset_MERRA2_fields_flux.variables['HFLUX'][:-1,:,:,:]\n",
    "    SFlux_latent_MERRA2 = dataset_MERRA2_fields_flux.variables['EFLUX'][:-1,:,:,:]\n",
    "    # calculate total net energy flux at TOA/surface\n",
    "    # merra - watch out! the sign\n",
    "    # reverse the meridional coordinate of MERRA2 for the sake of the calc. of residual\n",
    "    net_flux_surf_MERRA2 = rad_short_surf_MERRA2[:,:,::-1,:] + rad_long_surf_MERRA2[:,:,::-1,:] -\\\n",
    "                           SFlux_sensible_MERRA2[:,:,::-1,:] - SFlux_latent_MERRA2[:,:,::-1,:]\n",
    "    net_flux_toa_MERRA2 = rad_short_toa_MERRA2[:,:,::-1,:] - rad_long_toa_MERRA2[:,:,::-1,:]\n",
    "    del rad_short_toa_MERRA2, rad_long_toa_MERRA2, rad_short_surf_MERRA2, rad_long_surf_MERRA2\n",
    "    del SFlux_sensible_MERRA2, SFlux_latent_MERRA2\n",
    "    print ('*********************** post-process jra fields *************************')\n",
    "    rad_net_toa_JRA55 = dataset_JRA55_fields_flux.variables['nRadT'][:]\n",
    "    rad_net_surf_JRA55 = dataset_JRA55_fields_flux.variables['nRadS'][:]\n",
    "    SFlux_sensible_JRA55 = dataset_JRA55_fields_flux.variables['SFlux'][:]\n",
    "    SFlux_latent_JRA55 = dataset_JRA55_fields_flux.variables['LFlux'][:]\n",
    "    # calculate total net energy flux at TOA/surface\n",
    "    net_flux_surf_JRA55 = rad_net_surf_JRA55[:] + SFlux_sensible_JRA55[:] +\\\n",
    "                          SFlux_latent_JRA55[:]\n",
    "    net_flux_toa_JRA55 = rad_net_toa_JRA55[:]\n",
    "    del rad_net_surf_JRA55, SFlux_sensible_JRA55, SFlux_latent_JRA55\n",
    "    print ('*********************** convert W/m2 to  *************************')\n",
    "    # area weighted surface flux\n",
    "    # era\n",
    "    net_flux_surf_ERAI_area = np.zeros(net_flux_surf_ERAI.shape, dtype=float)\n",
    "    net_flux_toa_ERAI_area = np.zeros(net_flux_toa_ERAI.shape, dtype=float)\n",
    "    # merra\n",
    "    net_flux_surf_MERRA2_area = np.zeros(net_flux_surf_MERRA2.shape, dtype=float)\n",
    "    net_flux_toa_MERRA2_area = np.zeros(net_flux_toa_MERRA2.shape, dtype=float)\n",
    "    # jra\n",
    "    net_flux_surf_JRA55_area = np.zeros(net_flux_surf_JRA55.shape, dtype=float)\n",
    "    net_flux_toa_JRA55_area = np.zeros(net_flux_toa_JRA55.shape, dtype=float) \n",
    "    #size of the grid box\n",
    "    # era\n",
    "    dx_ERAI = 2 * np.pi * constant['R'] * np.cos(2 * np.pi * latitude_fields_ERAI /\n",
    "                                            360) / len(longitude_fields_ERAI) \n",
    "    dy_ERAI = np.pi * constant['R'] / len(latitude_fields_ERAI)\n",
    "    # merra\n",
    "    dx_MERRA2 = 2 * np.pi * constant['R'] * np.cos(2 * np.pi * latitude_fields_MERRA2 /\n",
    "                                            360) / len(longitude_fields_MERRA2) \n",
    "    dy_MERRA2 = np.pi * constant['R'] / len(latitude_fields_MERRA2)\n",
    "    # jra\n",
    "    dx_JRA55 = 2 * np.pi * constant['R'] * np.cos(2 * np.pi * latitude_fields_JRA55 /\n",
    "                                            360) / len(longitude_fields_JRA55) \n",
    "    dy_JRA55 = np.pi * constant['R'] / len(latitude_fields_JRA55)   \n",
    "    # era\n",
    "    for i in np.arange(len(latitude_fields_ERAI)):\n",
    "        # change the unit to terawatt\n",
    "        net_flux_surf_ERAI_area[:,:,i,:] = net_flux_surf_ERAI[:,:,i,:] * dx_ERAI[i] *\\\n",
    "                                           dy_ERAI / 1E+12\n",
    "        net_flux_toa_ERAI_area[:,:,i,:] = net_flux_toa_ERAI[:,:,i,:] * dx_ERAI[i] *\\\n",
    "                                          dy_ERAI / 1E+12\n",
    "    # merra\n",
    "    for i in np.arange(len(latitude_fields_MERRA2)):\n",
    "        # change the unit to terawatt\n",
    "        net_flux_surf_MERRA2_area[:,:,i,:] = net_flux_surf_MERRA2[:,:,i,:] * dx_MERRA2[i] *\\\n",
    "                                           dy_MERRA2 / 1E+12\n",
    "        net_flux_toa_MERRA2_area[:,:,i,:] = net_flux_toa_MERRA2[:,:,i,:] * dx_MERRA2[i] *\\\n",
    "                                          dy_MERRA2 / 1E+12\n",
    "    # jra\n",
    "    for i in np.arange(len(latitude_fields_JRA55)):\n",
    "        # change the unit to terawatt\n",
    "        net_flux_surf_JRA55_area[:,:,i,:] = net_flux_surf_JRA55[:,:,i,:] * dx_JRA55[i] *\\\n",
    "                                           dy_JRA55 / 1E+12\n",
    "        net_flux_toa_JRA55_area[:,:,i,:] = net_flux_toa_JRA55[:,:,i,:] * dx_JRA55[i] *\\\n",
    "                                          dy_JRA55 / 1E+12"
   ]
  },
  {
   "cell_type": "code",
   "execution_count": 5,
   "metadata": {},
   "outputs": [
    {
     "name": "stdout",
     "output_type": "stream",
     "text": [
      "Compute AMET as the residuals of net flux at TOA & surface.\n",
      "*********************** AMET - era fields *************************\n",
      "(38, 12, 241)\n",
      "*********************** AMET - merra fields *************************\n",
      "(37, 12, 361)\n",
      "*********************** AMET - jra fields *************************\n",
      "(35, 12, 320)\n"
     ]
    }
   ],
   "source": [
    "    print ('Compute AMET as the residuals of net flux at TOA & surface.')\n",
    "    print ('*********************** AMET - era fields *************************')\n",
    "    # take the zonal integral of flux\n",
    "    net_flux_surf_ERAI_int = np.sum(net_flux_surf_ERAI_area,3) / 1000 # PW\n",
    "    net_flux_toa_ERAI_int = np.sum(net_flux_toa_ERAI_area,3) / 1000\n",
    "    # AMET as the residual of net flux at TOA & surface\n",
    "    AMET_res_ERAI = np.zeros(net_flux_surf_ERAI_int.shape)\n",
    "    for i in np.arange(len(latitude_fields_ERAI)-1):\n",
    "        AMET_res_ERAI[:,:,i] = -(np.sum(net_flux_toa_ERAI_int[:,:,0:i+1],2) -\n",
    "                                np.sum(net_flux_surf_ERAI_int[:,:,0:i+1],2))\n",
    "    print (AMET_res_ERAI.shape)\n",
    "    # invert the latitudinal coordinate\n",
    "    AMET_res_ERAI = AMET_res_ERAI[:,:,:68]\n",
    "    AMET_res_ERAI_inv = AMET_res_ERAI[:,:,::-1]\n",
    "    latitude_fields_ERAI_part = latitude_fields_ERAI[:68]\n",
    "    latitude_fields_ERAI_inv = latitude_fields_ERAI_part[::-1]\n",
    "    print ('*********************** AMET - merra fields *************************')\n",
    "    # take the zonal integral of flux\n",
    "    net_flux_surf_MERRA2_int = np.sum(net_flux_surf_MERRA2_area,3) / 1000 # PW\n",
    "    net_flux_toa_MERRA2_int = np.sum(net_flux_toa_MERRA2_area,3) / 1000\n",
    "    # AMET as the residual of net flux at TOA & surface\n",
    "    AMET_res_MERRA2 = np.zeros(net_flux_surf_MERRA2_int.shape)\n",
    "    for i in np.arange(len(latitude_fields_MERRA2)-1):\n",
    "        AMET_res_MERRA2[:,:,i] = -(np.sum(net_flux_toa_MERRA2_int[:,:,0:i+1],2) -\n",
    "                                np.sum(net_flux_surf_MERRA2_int[:,:,0:i+1],2))\n",
    "    print (AMET_res_MERRA2.shape)\n",
    "    AMET_res_MERRA2 = AMET_res_MERRA2[:,:,:102]\n",
    "    AMET_res_MERRA2_inv = AMET_res_MERRA2[:,:,::-1]\n",
    "    latitude_fields_MERRA2_part = latitude_fields_MERRA2[:102]\n",
    "    latitude_fields_MERRA2_inv = latitude_fields_MERRA2_part[::-1]\n",
    "    print ('*********************** AMET - jra fields *************************')\n",
    "    # take the zonal integral of flux\n",
    "    net_flux_surf_JRA55_int = np.sum(net_flux_surf_JRA55_area,3) / 1000 # PW\n",
    "    net_flux_toa_JRA55_int = np.sum(net_flux_toa_JRA55_area,3) / 1000\n",
    "    # AMET as the residual of net flux at TOA & surface\n",
    "    AMET_res_JRA55 = np.zeros(net_flux_surf_JRA55_int.shape)\n",
    "    for i in np.arange(len(latitude_fields_JRA55)-1):\n",
    "        AMET_res_JRA55[:,:,i] = -(np.sum(net_flux_toa_JRA55_int[:,:,0:i+1],2) -\n",
    "                                np.sum(net_flux_surf_JRA55_int[:,:,0:i+1],2))\n",
    "    print (AMET_res_JRA55.shape)\n",
    "    AMET_res_JRA55 = AMET_res_JRA55[:,:,:89]\n",
    "    AMET_res_JRA55_inv = AMET_res_JRA55[:,:,::-1]\n",
    "    latitude_fields_JRA55_part = latitude_fields_JRA55[:89]\n",
    "    latitude_fields_JRA55_inv = latitude_fields_JRA55_part[::-1]"
   ]
  },
  {
   "cell_type": "markdown",
   "metadata": {},
   "source": [
    "Perform interpolation as AMET and OMET has different resoltion in terms of the latitudes."
   ]
  },
  {
   "cell_type": "code",
   "execution_count": 11,
   "metadata": {},
   "outputs": [
    {
     "name": "stdout",
     "output_type": "stream",
     "text": [
      "*******************  interpolation for regression   **********************\n"
     ]
    }
   ],
   "source": [
    "    print ('*******************  interpolation for regression   **********************')\n",
    "    # interpolate OMET on the latitude of AMET\n",
    "    # ORAS4 - ERAI\n",
    "    # glole\n",
    "    #OMET_ORAS4_interp_ERAI = meta.statistics.operator.interpolation(OMET_int_ORAS4, \n",
    "    #                             latitude_OMET_ORAS4, latitude_fields_ERAI_part[::-1])\n",
    "    # atlantic\n",
    "    OMET_atl_ORAS4_interp_ERAI = meta.statistics.operator.interpolation(OMET_atl_int_ORAS4, \n",
    "                                 latitude_OMET_ORAS4, latitude_fields_ERAI_inv)\n",
    "    # an easy check for the interpolation\n",
    "    #plt.plot(latitude_AMET_ERAI,OMET_atl_ORAS4_interp_ERAI[2,11,:],linewidth=6.0)\n",
    "    #plt.plot(latitude_OMET_ORAS4,OMET_atl_int_ORAS4[2,11,:])\n",
    "    \n",
    "    # ORAS4 - MERRA2\n",
    "    OMET_ORAS4_interp_MERRA2 = meta.statistics.operator.interpolation(OMET_int_ORAS4, \n",
    "                                 latitude_OMET_ORAS4, latitude_fields_MERRA2_inv)\n",
    "    # atlantic\n",
    "    OMET_atl_ORAS4_interp_MERRA2 = meta.statistics.operator.interpolation(OMET_atl_int_ORAS4, \n",
    "                                 latitude_OMET_ORAS4, latitude_fields_MERRA2_inv)\n",
    "    # ORAS4 - JRA55\n",
    "    OMET_ORAS4_interp_JRA55 = meta.statistics.operator.interpolation(OMET_int_ORAS4, \n",
    "                                 latitude_OMET_ORAS4, latitude_fields_JRA55_inv)\n",
    "    # atlantic\n",
    "    OMET_atl_ORAS4_interp_JRA55 = meta.statistics.operator.interpolation(OMET_atl_int_ORAS4, \n",
    "                                 latitude_OMET_ORAS4, latitude_fields_JRA55_inv)"
   ]
  },
  {
   "cell_type": "code",
   "execution_count": 25,
   "metadata": {},
   "outputs": [
    {
     "name": "stdout",
     "output_type": "stream",
     "text": [
      "70.5\n",
      "70.0\n",
      "70.48342\n",
      "(38, 12, 68)\n",
      "(37, 12, 102)\n",
      "(35, 12, 89)\n",
      "(38, 12, 89)\n",
      "(38, 12, 68)\n",
      "(38, 12, 102)\n"
     ]
    }
   ],
   "source": [
    "print(latitude_fields_ERAI_inv[41])\n",
    "print(latitude_fields_MERRA2_inv[61])\n",
    "print(latitude_fields_JRA55_inv[54])\n",
    "\n",
    "print(AMET_res_ERAI_inv.shape)\n",
    "print(AMET_res_MERRA2_inv.shape)\n",
    "print(AMET_res_JRA55_inv.shape)\n",
    "\n",
    "print(OMET_atl_ORAS4_interp_JRA55.shape)\n",
    "print(OMET_atl_ORAS4_interp_ERAI.shape)\n",
    "print(OMET_atl_ORAS4_interp_MERRA2.shape)"
   ]
  },
  {
   "cell_type": "code",
   "execution_count": 13,
   "metadata": {},
   "outputs": [
    {
     "name": "stdout",
     "output_type": "stream",
     "text": [
      "*******************  postprocess with statistical tool  *********************\n",
      "***********!@#$%^&*  Lead/ Lag regression of ORAS4 - ERAI  !@#$%^&***********\n",
      "======================   AMET + 0 & OMET + atl + 0   ========================\n",
      "The input data has the dimension of month.\n",
      "The output anomaly time series only contains one dimension for time!\n",
      "The input data has the dimension of month.\n",
      "The output anomaly time series only contains one dimension for time!\n",
      "One time series with 2 dimensions is regressed on another.\n",
      "This a regression with lead/lag analysis.\n",
      "One time series with 2 dimensions is regressed on another.\n",
      "This a regression with lead/lag analysis.\n",
      "Create contour plot of correlation coefficient.\n"
     ]
    },
    {
     "data": {
      "image/png": "[encoded data removed]",
      "text/plain": [
       "<Figure size 432x288 with 1 Axes>"
      ]
     },
     "metadata": {},
     "output_type": "display_data"
    }
   ],
   "source": [
    "    print ('*******************  postprocess with statistical tool  *********************')\n",
    "    print ('***********!@#$%^&*  Lead/ Lag regression of ORAS4 - ERAI  !@#$%^&***********')\n",
    "    print ('======================   AMET + 0 & OMET + atl + 0   ========================')\n",
    "    stat_AMET_ERAI = meta.statistics.operator(AMET_res_ERAI_inv)\n",
    "    stat_AMET_ERAI.anomaly()\n",
    "    stat_AMET_ERAI.detrend()\n",
    "    # by default, the running mean is taken with a window of 60 months\n",
    "    stat_AMET_ERAI.lowpass(window=12, obj='detrend')\n",
    "    stat_OMET_ORAS4 = meta.statistics.operator(OMET_atl_ORAS4_interp_ERAI)\n",
    "    stat_OMET_ORAS4.anomaly()\n",
    "    stat_OMET_ORAS4.detrend()\n",
    "    stat_OMET_ORAS4.lowpass(window=12, obj='detrend')\n",
    "    #k, r, p = meta.statistics.operator.linearRegress(stat_AMET_ERAI._lowpass,\n",
    "    #                                                 stat_OMET_ORAS4._lowpass)\n",
    "    #meta.visualizer.plots.linearRegress(latitude_AMET_ERAI, r,\n",
    "    #                                    os.path.join(output_path,'regress_ERAI_0_ORAS4_atl_0.png'))\n",
    "    # set the lead lag\n",
    "    lag = 120\n",
    "    k, r, p = meta.statistics.operator.linearRegress(stat_AMET_ERAI._lowpass,\n",
    "                                                     stat_OMET_ORAS4._lowpass, lag)\n",
    "    _, _, p_real = meta.statistics.operator.linearRegress(stat_AMET_ERAI._detrend,\n",
    "                                                          stat_OMET_ORAS4._detrend, lag)\n",
    "    # r[lag,lat]\n",
    "    meta.visualizer.plots.leadlagRegress(latitude_fields_ERAI_inv[:42], r[:,:42], lag, p_real[:,:42],\n",
    "                                         os.path.join(output_path,\n",
    "                                         'leadlag_ERAI_ORAS4_atl_omet_annual.png'),\n",
    "                                         ttest=True)"
   ]
  },
  {
   "cell_type": "code",
   "execution_count": null,
   "metadata": {},
   "outputs": [
    {
     "name": "stdout",
     "output_type": "stream",
     "text": [
      "*******************  postprocess with statistical tool  *********************\n",
      "***********!@#$%^&*  Lead/ Lag regression of ORAS4 - MERAA2  !@#$%^&***********\n",
      "======================   AMET & OMET + atl   ========================\n",
      "The input data has the dimension of month.\n",
      "The output anomaly time series only contains one dimension for time!\n",
      "The input data has the dimension of month.\n",
      "The output anomaly time series only contains one dimension for time!\n",
      "One time series with 2 dimensions is regressed on another.\n",
      "This a regression with lead/lag analysis.\n"
     ]
    }
   ],
   "source": [
    "    print ('*******************  postprocess with statistical tool  *********************')\n",
    "    print ('***********!@#$%^&*  Lead/ Lag regression of ORAS4 - MERAA2  !@#$%^&***********')\n",
    "    print ('======================   AMET & OMET + atl   ========================')\n",
    "    stat_AMET_MERRA2 = meta.statistics.operator(AMET_res_MERRA2_inv)\n",
    "    stat_AMET_MERRA2.anomaly()\n",
    "    stat_AMET_MERRA2.detrend()\n",
    "    # by default, the running mean is taken with a window of 60 months\n",
    "    stat_AMET_MERRA2.lowpass(window=60, obj='detrend')\n",
    "    stat_OMET_ORAS4 = meta.statistics.operator(OMET_atl_ORAS4_interp_MERRA2[1:,:,:])\n",
    "    stat_OMET_ORAS4.anomaly()\n",
    "    stat_OMET_ORAS4.detrend()\n",
    "    stat_OMET_ORAS4.lowpass(window=60, obj='detrend')\n",
    "    #k, r, p = meta.statistics.operator.linearRegress(stat_AMET_ERAI._lowpass,\n",
    "    #                                                 stat_OMET_ORAS4._lowpass)\n",
    "    #meta.visualizer.plots.linearRegress(latitude_AMET_ERAI, r,\n",
    "    #                                    os.path.join(output_path,'regress_ERAI_0_ORAS4_atl_0.png'))\n",
    "    # set the lead lag\n",
    "    lag = 120\n",
    "    k, r, p = meta.statistics.operator.linearRegress(stat_AMET_MERRA2._lowpass,\n",
    "                                                     stat_OMET_ORAS4._lowpass, lag)\n",
    "    _, _, p_real = meta.statistics.operator.linearRegress(stat_AMET_MERRA2._detrend,\n",
    "                                                          stat_OMET_ORAS4._detrend, lag)\n",
    "    # r[lag,lat]\n",
    "    meta.visualizer.plots.leadlagRegress(latitude_fields_MERRA2_inv[:62], r[:,:62], lag, p_real[:,:62],\n",
    "                                         os.path.join(output_path,\n",
    "                                         'leadlag_MERRA2_ORAS4_atl_omet_interannual.png'),\n",
    "                                         ttest=True)"
   ]
  },
  {
   "cell_type": "code",
   "execution_count": 22,
   "metadata": {},
   "outputs": [
    {
     "name": "stdout",
     "output_type": "stream",
     "text": [
      "(433, 102)\n",
      "(445, 102)\n"
     ]
    }
   ],
   "source": [
    "print(stat_AMET_MERRA2._lowpass.shape)\n",
    "print(stat_OMET_ORAS4._lowpass.shape)"
   ]
  },
  {
   "cell_type": "code",
   "execution_count": 15,
   "metadata": {},
   "outputs": [
    {
     "name": "stdout",
     "output_type": "stream",
     "text": [
      "*******************  postprocess with statistical tool  *********************\n",
      "***********!@#$%^&*  Lead/ Lag regression of ORAS4 - JRA55  !@#$%^&***********\n",
      "======================   AMET + 0 & OMET + atl + 0   ========================\n",
      "The input data has the dimension of month.\n",
      "The output anomaly time series only contains one dimension for time!\n",
      "The input data has the dimension of month.\n",
      "The output anomaly time series only contains one dimension for time!\n"
     ]
    },
    {
     "ename": "UnboundLocalError",
     "evalue": "local variable 'slope' referenced before assignment",
     "output_type": "error",
     "traceback": [
      "\u001b[0;31m---------------------------------------------------------------------------\u001b[0m",
      "\u001b[0;31mUnboundLocalError\u001b[0m                         Traceback (most recent call last)",
      "\u001b[0;32m<ipython-input-15-1f94f487dcda>\u001b[0m in \u001b[0;36m<module>\u001b[0;34m()\u001b[0m\n\u001b[1;32m     18\u001b[0m \u001b[0mlag\u001b[0m \u001b[0;34m=\u001b[0m \u001b[0;36m120\u001b[0m\u001b[0;34m\u001b[0m\u001b[0m\n\u001b[1;32m     19\u001b[0m k, r, p = meta.statistics.operator.linearRegress(stat_AMET_JRA55._lowpass,\n\u001b[0;32m---> 20\u001b[0;31m                                                  stat_OMET_ORAS4._lowpass, lag)\n\u001b[0m\u001b[1;32m     21\u001b[0m _, _, p_real = meta.statistics.operator.linearRegress(stat_AMET_JRA55._detrend,\n\u001b[1;32m     22\u001b[0m                                                       stat_OMET_ORAS4._detrend, lag)\n",
      "\u001b[0;32m~/NLeSC/Computation_Modeling/Bjerknes/Scripts/META/meta/statistics.py\u001b[0m in \u001b[0;36mlinearRegress\u001b[0;34m(var_x, var_y, lag)\u001b[0m\n\u001b[1;32m    323\u001b[0m             \u001b[0mIOError\u001b[0m\u001b[0;34m(\u001b[0m\u001b[0;34m\"The dimensons of input time series are not supported.\"\u001b[0m\u001b[0;34m)\u001b[0m\u001b[0;34m\u001b[0m\u001b[0m\n\u001b[1;32m    324\u001b[0m \u001b[0;34m\u001b[0m\u001b[0m\n\u001b[0;32m--> 325\u001b[0;31m         \u001b[0;32mreturn\u001b[0m \u001b[0mslope\u001b[0m\u001b[0;34m,\u001b[0m \u001b[0mr_value\u001b[0m\u001b[0;34m,\u001b[0m \u001b[0mp_value\u001b[0m\u001b[0;34m\u001b[0m\u001b[0m\n\u001b[0m\u001b[1;32m    326\u001b[0m \u001b[0;34m\u001b[0m\u001b[0m\n\u001b[1;32m    327\u001b[0m     \u001b[0;34m@\u001b[0m\u001b[0mstaticmethod\u001b[0m\u001b[0;34m\u001b[0m\u001b[0m\n",
      "\u001b[0;31mUnboundLocalError\u001b[0m: local variable 'slope' referenced before assignment"
     ]
    }
   ],
   "source": [
    "    print ('*******************  postprocess with statistical tool  *********************')\n",
    "    print ('***********!@#$%^&*  Lead/ Lag regression of ORAS4 - JRA55  !@#$%^&***********')\n",
    "    print ('======================   AMET + 0 & OMET + atl + 0   ========================')\n",
    "    stat_AMET_JRA55 = meta.statistics.operator(AMET_res_JRA55_inv)\n",
    "    stat_AMET_JRA55.anomaly()\n",
    "    stat_AMET_JRA55.detrend()\n",
    "    # by default, the running mean is taken with a window of 60 months\n",
    "    stat_AMET_JRA55.lowpass(window=60, obj='detrend')\n",
    "    stat_OMET_ORAS4 = meta.statistics.operator(OMET_atl_ORAS4_interp_JRA55[:-3,:,:])\n",
    "    stat_OMET_ORAS4.anomaly()\n",
    "    stat_OMET_ORAS4.detrend()\n",
    "    stat_OMET_ORAS4.lowpass(window=60, obj='detrend')\n",
    "    #k, r, p = meta.statistics.operator.linearRegress(stat_AMET_ERAI._lowpass,\n",
    "    #                                                 stat_OMET_ORAS4._lowpass)\n",
    "    #meta.visualizer.plots.linearRegress(latitude_AMET_ERAI, r,\n",
    "    #                                    os.path.join(output_path,'regress_ERAI_0_ORAS4_atl_0.png'))\n",
    "    # set the lead lag\n",
    "    lag = 120\n",
    "    k, r, p = meta.statistics.operator.linearRegress(stat_AMET_JRA55._lowpass,\n",
    "                                                     stat_OMET_ORAS4._lowpass, lag)\n",
    "    _, _, p_real = meta.statistics.operator.linearRegress(stat_AMET_JRA55._detrend,\n",
    "                                                          stat_OMET_ORAS4._detrend, lag)\n",
    "    # r[lag,lat]\n",
    "    meta.visualizer.plots.leadlagRegress(latitude_fields_JRA55_inv[:55], r[:,:55], lag, p_real[:,:55],\n",
    "                                         os.path.join(output_path,\n",
    "                                         'leadlag_JRA55_ORAS4_atl_omet_interannual.png'),\n",
    "                                         ttest=True)"
   ]
  }
 ],
 "metadata": {
  "kernelspec": {
   "display_name": "Python 3",
   "language": "python",
   "name": "python3"
  },
  "language_info": {
   "codemirror_mode": {
    "name": "ipython",
    "version": 3
   },
   "file_extension": ".py",
   "mimetype": "text/x-python",
   "name": "python",
   "nbconvert_exporter": "python",
   "pygments_lexer": "ipython3",
   "version": "3.6.5"
  }
 },
 "nbformat": 4,
 "nbformat_minor": 2
}

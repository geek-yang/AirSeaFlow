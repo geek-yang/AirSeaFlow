{
 "cells": [
  {
   "cell_type": "code",
   "execution_count": 1,
   "metadata": {},
   "outputs": [],
   "source": [
    "import numpy as np\n",
    "from netCDF4 import Dataset\n",
    "import pygrib\n",
    "import os"
   ]
  },
  {
   "cell_type": "code",
   "execution_count": 2,
   "metadata": {},
   "outputs": [
    {
     "name": "stdout",
     "output_type": "stream",
     "text": [
      "Number of messages 27\n",
      "1:Specific humidity:kg kg**-1 (avgua):regular_ll:isobaricInhPa:level 100:fcst time 0 hrs (avgua):from 201610010000\n",
      "2:Specific humidity:kg kg**-1 (avgua):regular_ll:isobaricInhPa:level 125:fcst time 0 hrs (avgua):from 201610010000\n",
      "3:Specific humidity:kg kg**-1 (avgua):regular_ll:isobaricInhPa:level 150:fcst time 0 hrs (avgua):from 201610010000\n",
      "4:Specific humidity:kg kg**-1 (avgua):regular_ll:isobaricInhPa:level 175:fcst time 0 hrs (avgua):from 201610010000\n",
      "5:Specific humidity:kg kg**-1 (avgua):regular_ll:isobaricInhPa:level 200:fcst time 0 hrs (avgua):from 201610010000\n",
      "6:Specific humidity:kg kg**-1 (avgua):regular_ll:isobaricInhPa:level 225:fcst time 0 hrs (avgua):from 201610010000\n",
      "7:Specific humidity:kg kg**-1 (avgua):regular_ll:isobaricInhPa:level 250:fcst time 0 hrs (avgua):from 201610010000\n",
      "8:Specific humidity:kg kg**-1 (avgua):regular_ll:isobaricInhPa:level 300:fcst time 0 hrs (avgua):from 201610010000\n",
      "9:Specific humidity:kg kg**-1 (avgua):regular_ll:isobaricInhPa:level 350:fcst time 0 hrs (avgua):from 201610010000\n",
      "10:Specific humidity:kg kg**-1 (avgua):regular_ll:isobaricInhPa:level 400:fcst time 0 hrs (avgua):from 201610010000\n",
      "11:Specific humidity:kg kg**-1 (avgua):regular_ll:isobaricInhPa:level 450:fcst time 0 hrs (avgua):from 201610010000\n",
      "12:Specific humidity:kg kg**-1 (avgua):regular_ll:isobaricInhPa:level 500:fcst time 0 hrs (avgua):from 201610010000\n",
      "13:Specific humidity:kg kg**-1 (avgua):regular_ll:isobaricInhPa:level 550:fcst time 0 hrs (avgua):from 201610010000\n",
      "14:Specific humidity:kg kg**-1 (avgua):regular_ll:isobaricInhPa:level 600:fcst time 0 hrs (avgua):from 201610010000\n",
      "15:Specific humidity:kg kg**-1 (avgua):regular_ll:isobaricInhPa:level 650:fcst time 0 hrs (avgua):from 201610010000\n",
      "16:Specific humidity:kg kg**-1 (avgua):regular_ll:isobaricInhPa:level 700:fcst time 0 hrs (avgua):from 201610010000\n",
      "17:Specific humidity:kg kg**-1 (avgua):regular_ll:isobaricInhPa:level 750:fcst time 0 hrs (avgua):from 201610010000\n",
      "18:Specific humidity:kg kg**-1 (avgua):regular_ll:isobaricInhPa:level 775:fcst time 0 hrs (avgua):from 201610010000\n",
      "19:Specific humidity:kg kg**-1 (avgua):regular_ll:isobaricInhPa:level 800:fcst time 0 hrs (avgua):from 201610010000\n",
      "20:Specific humidity:kg kg**-1 (avgua):regular_ll:isobaricInhPa:level 825:fcst time 0 hrs (avgua):from 201610010000\n",
      "21:Specific humidity:kg kg**-1 (avgua):regular_ll:isobaricInhPa:level 850:fcst time 0 hrs (avgua):from 201610010000\n",
      "22:Specific humidity:kg kg**-1 (avgua):regular_ll:isobaricInhPa:level 875:fcst time 0 hrs (avgua):from 201610010000\n",
      "23:Specific humidity:kg kg**-1 (avgua):regular_ll:isobaricInhPa:level 900:fcst time 0 hrs (avgua):from 201610010000\n",
      "24:Specific humidity:kg kg**-1 (avgua):regular_ll:isobaricInhPa:level 925:fcst time 0 hrs (avgua):from 201610010000\n",
      "25:Specific humidity:kg kg**-1 (avgua):regular_ll:isobaricInhPa:level 950:fcst time 0 hrs (avgua):from 201610010000\n",
      "26:Specific humidity:kg kg**-1 (avgua):regular_ll:isobaricInhPa:level 975:fcst time 0 hrs (avgua):from 201610010000\n",
      "27:Specific humidity:kg kg**-1 (avgua):regular_ll:isobaricInhPa:level 1000:fcst time 0 hrs (avgua):from 201610010000\n"
     ]
    }
   ],
   "source": [
    "datapath = '/home/ESLT0068'\n",
    "benchmark_grbs = pygrib.open(os.path.join(datapath,\n",
    "                             'anl_p125_spfh.201610.grib'))\n",
    "#                            'anl_p125.051_spfh.198201_198212.grib'))\n",
    "print ('Number of messages',benchmark_grbs.messages)\n",
    "for messenger in benchmark_grbs:\n",
    "    print (messenger)\n",
    "benchmark_key = benchmark_grbs.message(1)\n",
    "lats, lons = benchmark_key.latlons()\n",
    "latitude = lats[:,0]\n",
    "longitude = lons[0,:]"
   ]
  },
  {
   "cell_type": "code",
   "execution_count": 3,
   "metadata": {},
   "outputs": [
    {
     "name": "stdout",
     "output_type": "stream",
     "text": [
      "[ 90.    88.75  87.5   86.25  85.    83.75  82.5   81.25  80.    78.75\n",
      "  77.5   76.25  75.    73.75  72.5   71.25  70.    68.75  67.5   66.25\n",
      "  65.    63.75  62.5   61.25  60.    58.75  57.5   56.25  55.    53.75\n",
      "  52.5   51.25  50.    48.75  47.5   46.25  45.    43.75  42.5   41.25\n",
      "  40.    38.75  37.5   36.25  35.    33.75  32.5   31.25  30.    28.75\n",
      "  27.5   26.25  25.    23.75  22.5   21.25  20.    18.75  17.5   16.25\n",
      "  15.    13.75  12.5   11.25  10.     8.75   7.5    6.25   5.     3.75\n",
      "   2.5    1.25   0.    -1.25  -2.5   -3.75  -5.    -6.25  -7.5   -8.75\n",
      " -10.   -11.25 -12.5  -13.75 -15.   -16.25 -17.5  -18.75 -20.   -21.25\n",
      " -22.5  -23.75 -25.   -26.25 -27.5  -28.75 -30.   -31.25 -32.5  -33.75\n",
      " -35.   -36.25 -37.5  -38.75 -40.   -41.25 -42.5  -43.75 -45.   -46.25\n",
      " -47.5  -48.75 -50.   -51.25 -52.5  -53.75 -55.   -56.25 -57.5  -58.75\n",
      " -60.   -61.25 -62.5  -63.75 -65.   -66.25 -67.5  -68.75 -70.   -71.25\n",
      " -72.5  -73.75 -75.   -76.25 -77.5  -78.75 -80.   -81.25 -82.5  -83.75\n",
      " -85.   -86.25 -87.5  -88.75 -90.  ]\n",
      "324\n"
     ]
    }
   ],
   "source": [
    "print(latitude)\n",
    "print(27*12)"
   ]
  },
  {
   "cell_type": "code",
   "execution_count": 10,
   "metadata": {},
   "outputs": [
    {
     "name": "stdout",
     "output_type": "stream",
     "text": [
      "288\n",
      "[ 100  125  150  175  200  225  250  300  350  400  450  500  550  600\n",
      "  650  700  750  775  800  825  850  875  900  925  950  975 1000]\n"
     ]
    },
    {
     "data": {
      "text/plain": [
       "numpy.ndarray"
      ]
     },
     "execution_count": 10,
     "metadata": {},
     "output_type": "execute_result"
    }
   ],
   "source": [
    "print(len(longitude))\n",
    "level = np.array(([100, 125, 150, 175, 200,\n",
    "                   225, 250, 300, 350, 400,\n",
    "                    450, 500, 550, 600, 650,\n",
    "                    700, 750, 775, 800, 825,\n",
    "                    850, 875, 900, 925, 950,\n",
    "                    975, 1000]),dtype=int)\n",
    "print(level)\n",
    "type(level)"
   ]
  }
 ],
 "metadata": {
  "kernelspec": {
   "display_name": "Python 3",
   "language": "python",
   "name": "python3"
  },
  "language_info": {
   "codemirror_mode": {
    "name": "ipython",
    "version": 3
   },
   "file_extension": ".py",
   "mimetype": "text/x-python",
   "name": "python",
   "nbconvert_exporter": "python",
   "pygments_lexer": "ipython3",
   "version": "3.6.5"
  }
 },
 "nbformat": 4,
 "nbformat_minor": 2
}

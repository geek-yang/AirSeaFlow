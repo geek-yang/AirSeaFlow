{
 "cells": [
  {
   "cell_type": "markdown",
   "metadata": {},
   "source": [
    "# Copyright Netherlands eScience Center <br>\n",
    "** Function     : Packing netCDF for land mask from JRA55** <br>\n",
    "** Author       : Yang Liu ** <br>\n",
    "** First Built  : 2019.10.10 ** <br>\n",
    "** Last Update  : 2019.10.12 ** <br>\n",
    "Description     : This notebook aims to pack the land mask from JRA55.<br>\n",
    "Return Values   : netCDF4 <br>\n",
    "Caveat          : "
   ]
  },
  {
   "cell_type": "code",
   "execution_count": 11,
   "metadata": {},
   "outputs": [],
   "source": [
    "import numpy as np\n",
    "from netCDF4 import Dataset\n",
    "import pygrib\n",
    "import os\n",
    "import matplotlib.pyplot as plt"
   ]
  },
  {
   "cell_type": "markdown",
   "metadata": {},
   "source": [
    "Initialization - Start with location of input and extraction of variables\n",
    "Time span of each product:\n",
    "- **ERA-Interim** 1979 - 2016\n",
    "- **MERRA2**      1980 - 2016\n",
    "- **JRA55**       1979 - 2015\n",
    "- **ORAS4**       1958 - 2017\n",
    "- **GLORYS2V3**   1993 - 2014\n",
    "- **SODA3**       1980 - 2015"
   ]
  },
  {
   "cell_type": "code",
   "execution_count": 12,
   "metadata": {},
   "outputs": [],
   "source": [
    "################################   Input zone  ######################################\n",
    "# specify data path\n",
    "# JRA55 2D fields - radiations\n",
    "datapath = '/home/ESLT0068/WorkFlow/Core_Database_AMET_OMET_reanalysis/JRA55/regression/mask'\n",
    "# specify output path for figures\n",
    "output_path = '/home/ESLT0068/WorkFlow/Core_Database_AMET_OMET_reanalysis/JRA55/regression/mask'\n",
    "####################################################################################"
   ]
  },
  {
   "cell_type": "code",
   "execution_count": 13,
   "metadata": {},
   "outputs": [
    {
     "name": "stdout",
     "output_type": "stream",
     "text": [
      "Number of messages 12\n",
      "1:Soil Temperature:K (avgua):regular_gg:deepSoil:level 0:fcst time 0 hrs (avgua):from 199101010000\n",
      "2:Soil Temperature:K (avgua):regular_gg:deepSoil:level 0:fcst time 0 hrs (avgua):from 199102010000\n",
      "3:Soil Temperature:K (avgua):regular_gg:deepSoil:level 0:fcst time 0 hrs (avgua):from 199103010000\n",
      "4:Soil Temperature:K (avgua):regular_gg:deepSoil:level 0:fcst time 0 hrs (avgua):from 199104010000\n",
      "5:Soil Temperature:K (avgua):regular_gg:deepSoil:level 0:fcst time 0 hrs (avgua):from 199105010000\n",
      "6:Soil Temperature:K (avgua):regular_gg:deepSoil:level 0:fcst time 0 hrs (avgua):from 199106010000\n",
      "7:Soil Temperature:K (avgua):regular_gg:deepSoil:level 0:fcst time 0 hrs (avgua):from 199107010000\n",
      "8:Soil Temperature:K (avgua):regular_gg:deepSoil:level 0:fcst time 0 hrs (avgua):from 199108010000\n",
      "9:Soil Temperature:K (avgua):regular_gg:deepSoil:level 0:fcst time 0 hrs (avgua):from 199109010000\n",
      "10:Soil Temperature:K (avgua):regular_gg:deepSoil:level 0:fcst time 0 hrs (avgua):from 199110010000\n",
      "11:Soil Temperature:K (avgua):regular_gg:deepSoil:level 0:fcst time 0 hrs (avgua):from 199111010000\n",
      "12:Soil Temperature:K (avgua):regular_gg:deepSoil:level 0:fcst time 0 hrs (avgua):from 199112010000\n",
      "(320, 640)\n"
     ]
    }
   ],
   "source": [
    "# benmark data and basic dimensions extraction\n",
    "benchmark_grbs = pygrib.open(os.path.join(datapath,'anl_land.085_soilt.reg_tl319.199101_199112.grib'))\n",
    "print ('Number of messages',benchmark_grbs.messages)\n",
    "for messenger in benchmark_grbs:\n",
    "    print (messenger)\n",
    "benchmark_key = benchmark_grbs.message(1)\n",
    "lats, lons = benchmark_key.latlons()\n",
    "latitude = lats[:,0]\n",
    "longitude = lons[0,:]\n",
    "\n",
    "var = benchmark_key.values\n",
    "print(var.shape)\n",
    "mask_var = np.ma.getmask(var)\n",
    "mask = np.ones(var.shape,dtype=int)\n",
    "mask[mask_var==True] = 0\n",
    "mask[mask_var==False] = 1\n",
    "\n",
    "benchmark_grbs.close()"
   ]
  },
  {
   "cell_type": "code",
   "execution_count": 14,
   "metadata": {},
   "outputs": [
    {
     "name": "stdout",
     "output_type": "stream",
     "text": [
      "[[0 0 0 ... 0 0 0]\n",
      " [0 0 0 ... 0 0 0]\n",
      " [0 0 0 ... 0 0 0]\n",
      " ...\n",
      " [1 1 1 ... 1 1 1]\n",
      " [1 1 1 ... 1 1 1]\n",
      " [1 1 1 ... 1 1 1]]\n"
     ]
    }
   ],
   "source": [
    "print(mask)"
   ]
  },
  {
   "cell_type": "code",
   "execution_count": 15,
   "metadata": {},
   "outputs": [],
   "source": [
    "def pack_netcdf_point (mask, output_path):\n",
    "    print ('*******************************************************************')\n",
    "    print ('*********************** create netcdf file*************************')\n",
    "    print ('*******************************************************************')\n",
    "    #logging.info(\"Start creating netcdf file for the 2D fields of ERAI at each grid point.\")\n",
    "    # wrap the datasets into netcdf file\n",
    "    # 'NETCDF3_CLASSIC', 'NETCDF3_64BIT', 'NETCDF4_CLASSIC', and 'NETCDF4'\n",
    "    data_wrap = Dataset(os.path.join(output_path, 'JRA55_model_landsea_mask.nc'),'w',format = 'NETCDF4')\n",
    "    # create dimensions for netcdf data\n",
    "    lat_wrap_dim = data_wrap.createDimension('latitude',len(latitude))\n",
    "    lon_wrap_dim = data_wrap.createDimension('longitude',len(longitude))\n",
    "    # create coordinate variables for 1-dimensions\n",
    "    lat_wrap_var = data_wrap.createVariable('latitude',np.float32,('latitude',))\n",
    "    lon_wrap_var = data_wrap.createVariable('longitude',np.float32,('longitude',))\n",
    "    # create the actual 4d variable\n",
    "    mask_wrap_var = data_wrap.createVariable('mask',np.int32,('latitude','longitude'))\n",
    "    # global attributes\n",
    "    data_wrap.description = 'Landsea mask JRA55 on model grid'\n",
    "    # variable attributes\n",
    "    lat_wrap_var.units = 'degree_north'\n",
    "    lon_wrap_var.units = 'degree_east'\n",
    "\n",
    "    mask_wrap_var.units = '1'\n",
    "\n",
    "    mask_wrap_var.long_name = 'land sea mask'\n",
    "\n",
    "    # writing data\n",
    "    lat_wrap_var[:] = latitude\n",
    "    lon_wrap_var[:] = longitude\n",
    "\n",
    "    mask_wrap_var[:] = mask\n",
    "\n",
    "    # close the file\n",
    "    data_wrap.close()\n",
    "    print (\"The generation of netcdf files for fields on surface is complete!!\")"
   ]
  },
  {
   "cell_type": "code",
   "execution_count": 16,
   "metadata": {},
   "outputs": [
    {
     "name": "stdout",
     "output_type": "stream",
     "text": [
      "*******************************************************************\n",
      "*********************** create netcdf file*************************\n",
      "*******************************************************************\n",
      "The generation of netcdf files for fields on surface is complete!!\n",
      "Packing netcdf files complete!\n",
      "Create netcdf file successfully\n"
     ]
    }
   ],
   "source": [
    "if __name__==\"__main__\":\n",
    "    pack_netcdf_point(mask, output_path)\n",
    "    print ('Packing netcdf files complete!')\n",
    "\n",
    "print (\"Create netcdf file successfully\")"
   ]
  }
 ],
 "metadata": {
  "kernelspec": {
   "display_name": "Python 3",
   "language": "python",
   "name": "python3"
  },
  "language_info": {
   "codemirror_mode": {
    "name": "ipython",
    "version": 3
   },
   "file_extension": ".py",
   "mimetype": "text/x-python",
   "name": "python",
   "nbconvert_exporter": "python",
   "pygments_lexer": "ipython3",
   "version": "3.6.5"
  }
 },
 "nbformat": 4,
 "nbformat_minor": 2
}

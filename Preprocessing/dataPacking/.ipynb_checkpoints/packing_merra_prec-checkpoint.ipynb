{
 "cells": [
  {
   "cell_type": "markdown",
   "metadata": {},
   "source": [
    "# Copyright Netherlands eScience Center <br>\n",
    "** Function     : Packing netCDF for the surface wind and precipitation fields from MERRA2** <br>\n",
    "** Author       : Yang Liu ** <br>\n",
    "** First Built  : 2019.10.03 ** <br>\n",
    "** Last Update  : 2019.10.03 ** <br>\n",
    "Description     : This notebook aims to pack the surface wind and precipitation fields from MERRA2.<br>\n",
    "Return Values   : netCDF4 <br>\n",
    "Caveat          : The precipitation fields are forecast fields instead of analysis fields. Unlike ERA-Interim, those forecast fields are unpacked by NASA and thus they are not accumulated values. They can be used directly. <br>\n",
    "\n",
    "However, the unit is kg/m2s. We will change it to m/s.<br>\n",
    "1 kg of rain water spread over 1 square meter of surface is 1 mm in thickness.<br>\n",
    "There are 60X60X24=86400 seconds in one day.<br>\n",
    "Therefore, 1 kg/m2s = 86400 mm/day.<br>\n",
    "Consequently, from kg/m2s to m/s:<br>\n",
    "precipitation \\* 86400 / (24\\*3600) / 1000<br>"
   ]
  },
  {
   "cell_type": "code",
   "execution_count": 1,
   "metadata": {},
   "outputs": [],
   "source": [
    "import numpy as np\n",
    "from netCDF4 import Dataset\n",
    "import os"
   ]
  },
  {
   "cell_type": "markdown",
   "metadata": {},
   "source": [
    "Initialization - Start with location of input and extraction of variables\n",
    "Time span of each product:\n",
    "- **ERA-Interim** 1979 - 2016\n",
    "- **MERRA2**      1980 - 2016\n",
    "- **JRA55**       1979 - 2015\n",
    "- **ORAS4**       1958 - 2017\n",
    "- **GLORYS2V3**   1993 - 2014\n",
    "- **SODA3**       1980 - 2015"
   ]
  },
  {
   "cell_type": "code",
   "execution_count": 2,
   "metadata": {},
   "outputs": [],
   "source": [
    "################################   Input zone  ######################################\n",
    "# specify starting and ending time\n",
    "start_year = 1980\n",
    "end_year = 2017\n",
    "# specify data path\n",
    "# MERRA2 2D fields - radiations\n",
    "datapath_prec = '/home/ESLT0068/WorkFlow/Core_Database_AMET_OMET_reanalysis/MERRA2/regression/PRECPTOT'\n",
    "# sample\n",
    "datapath_benchmark = '/home/ESLT0068/WorkFlow/Core_Database_AMET_OMET_reanalysis/MERRA2/regression/PRECPTOT'\n",
    "benchmark_key = Dataset(os.path.join(datapath_benchmark,\"MERRA2_100.tavgM_2d_flx_Nx.198801.nc4.nc\"))\n",
    "# specify output path for figures\n",
    "output_path = '/home/ESLT0068/WorkFlow/Core_Database_AMET_OMET_reanalysis/MERRA2/regression'\n",
    "####################################################################################"
   ]
  },
  {
   "cell_type": "code",
   "execution_count": 8,
   "metadata": {},
   "outputs": [],
   "source": [
    "def var_key_retrieve(datapath_prec, year, month):\n",
    "    # get the path to each datasets\n",
    "    print (\"Start retrieving datasets {} (y) - {} (m)\".format(year,namelist_month[month-1]))\n",
    "    # The shape of each variable is (361,576)\n",
    "    # Total precipitation\n",
    "    if year < 1992:\n",
    "        datapath_prec = os.path.join(datapath_prec,\n",
    "                                     'MERRA2_100.tavgM_2d_flx_Nx.{}{}.nc4.nc'.format(year,namelist_month[month-1]))\n",
    "    elif year < 2001:\n",
    "        datapath_prec = os.path.join(datapath_prec,\n",
    "                                     'MERRA2_200.tavgM_2d_flx_Nx.{}{}.nc4.nc'.format(year,namelist_month[month-1]))\n",
    "    elif year < 2011:\n",
    "        datapath_prec = os.path.join(datapath_prec,\n",
    "                                     'MERRA2_300.tavgM_2d_flx_Nx.{}{}.nc4.nc'.format(year,namelist_month[month-1]))\n",
    "    else:\n",
    "        datapath_prec = os.path.join(datapath_prec,\n",
    "                                     'MERRA2_400.tavgM_2d_flx_Nx.{}{}.nc4.nc'.format(year,namelist_month[month-1]))\n",
    "    # get the variable keys\n",
    "    var_key_prec = Dataset(datapath_prec)\n",
    "\n",
    "\n",
    "    print (\"Retrieving datasets successfully and return the variable key!\")\n",
    "    return var_key_prec"
   ]
  },
  {
   "cell_type": "code",
   "execution_count": 4,
   "metadata": {},
   "outputs": [],
   "source": [
    "def create_netcdf_point(pool_prec, output_path):\n",
    "    print ('*******************************************************************')\n",
    "    print ('*********************** create netcdf file*************************')\n",
    "    print ('*******************************************************************')\n",
    "    # wrap the datasets into netcdf file\n",
    "    # 'NETCDF3_CLASSIC', 'NETCDF3_64BIT', 'NETCDF4_CLASSIC', and 'NETCDF4'\n",
    "    data_wrap = Dataset(os.path.join(output_path, 'surface_merra_monthly_regress_1980_2017_prec.nc'),'w',format = 'NETCDF4')\n",
    "    # create dimensions for netcdf data\n",
    "    year_wrap_dim = data_wrap.createDimension('year',Dim_year)\n",
    "    month_wrap_dim = data_wrap.createDimension('month',Dim_month)\n",
    "    lat_wrap_dim = data_wrap.createDimension('latitude',Dim_latitude)\n",
    "    lon_wrap_dim = data_wrap.createDimension('longitude',Dim_longitude)\n",
    "    # create coordinate variables for 3-dimensions\n",
    "    year_wrap_var = data_wrap.createVariable('year',np.int32,('year',))\n",
    "    month_wrap_var = data_wrap.createVariable('month',np.int32,('month',))\n",
    "    lat_wrap_var = data_wrap.createVariable('latitude',np.float32,('latitude',))\n",
    "    lon_wrap_var = data_wrap.createVariable('longitude',np.float32,('longitude',))\n",
    "    # create the actual 3-d variable\n",
    "    prec_wrap_var = data_wrap.createVariable('prec',np.float64,('year','month','latitude','longitude'),zlib=True)\n",
    "    # global attributes\n",
    "    data_wrap.description = 'Monthly mean precipitation from MERRA2 at each grid point'\n",
    "    # variable attributes\n",
    "    lat_wrap_var.units = 'degree_north'\n",
    "    lon_wrap_var.units = 'degree_east'\n",
    "\n",
    "    prec_wrap_var.units = 'm/s'\n",
    "\n",
    "    prec_wrap_var.long_name = 'total precipitation'\n",
    "\n",
    "    # writing data\n",
    "    lat_wrap_var[:] = latitude\n",
    "    lon_wrap_var[:] = longitude\n",
    "    month_wrap_var[:] = index_month\n",
    "    year_wrap_var[:] = period\n",
    "\n",
    "    prec_wrap_var[:] = pool_prec\n",
    "\n",
    "    # close the file\n",
    "    data_wrap.close()\n",
    "    print (\"Create netcdf file successfully\")"
   ]
  },
  {
   "cell_type": "code",
   "execution_count": 9,
   "metadata": {},
   "outputs": [
    {
     "name": "stdout",
     "output_type": "stream",
     "text": [
      "Start retrieving datasets 1980 (y) - 01 (m)\n",
      "Retrieving datasets successfully and return the variable key!\n"
     ]
    },
    {
     "ename": "NameError",
     "evalue": "name 'var_key_SFlux' is not defined",
     "output_type": "error",
     "traceback": [
      "\u001b[0;31m---------------------------------------------------------------------------\u001b[0m",
      "\u001b[0;31mNameError\u001b[0m                                 Traceback (most recent call last)",
      "\u001b[0;32m<ipython-input-9-9422e6f47c0d>\u001b[0m in \u001b[0;36m<module>\u001b[0;34m()\u001b[0m\n\u001b[1;32m     30\u001b[0m             \u001b[0mvar_key_prec\u001b[0m \u001b[0;34m=\u001b[0m \u001b[0mvar_key_retrieve\u001b[0m\u001b[0;34m(\u001b[0m\u001b[0mdatapath_prec\u001b[0m\u001b[0;34m,\u001b[0m\u001b[0mi\u001b[0m\u001b[0;34m,\u001b[0m\u001b[0mj\u001b[0m\u001b[0;34m)\u001b[0m\u001b[0;34m\u001b[0m\u001b[0m\n\u001b[1;32m     31\u001b[0m             \u001b[0;31m# convert from kg/m2s to m/s\u001b[0m\u001b[0;34m\u001b[0m\u001b[0;34m\u001b[0m\u001b[0m\n\u001b[0;32m---> 32\u001b[0;31m             \u001b[0mpool_EFLUX\u001b[0m\u001b[0;34m[\u001b[0m\u001b[0mi\u001b[0m\u001b[0;34m-\u001b[0m\u001b[0;36m1980\u001b[0m\u001b[0;34m,\u001b[0m\u001b[0mj\u001b[0m\u001b[0;34m-\u001b[0m\u001b[0;36m1\u001b[0m\u001b[0;34m,\u001b[0m\u001b[0;34m:\u001b[0m\u001b[0;34m,\u001b[0m\u001b[0;34m:\u001b[0m\u001b[0;34m]\u001b[0m \u001b[0;34m=\u001b[0m \u001b[0mvar_key_SFlux\u001b[0m\u001b[0;34m.\u001b[0m\u001b[0mvariables\u001b[0m\u001b[0;34m[\u001b[0m\u001b[0;34m'PRECPTOT'\u001b[0m\u001b[0;34m]\u001b[0m\u001b[0;34m[\u001b[0m\u001b[0;36m0\u001b[0m\u001b[0;34m,\u001b[0m\u001b[0;34m:\u001b[0m\u001b[0;34m,\u001b[0m\u001b[0;34m:\u001b[0m\u001b[0;34m]\u001b[0m\u001b[0;34m*\u001b[0m \u001b[0;36m86400\u001b[0m \u001b[0;34m/\u001b[0m \u001b[0;34m(\u001b[0m\u001b[0;36m24\u001b[0m\u001b[0;34m*\u001b[0m\u001b[0;36m3600\u001b[0m\u001b[0;34m)\u001b[0m \u001b[0;34m/\u001b[0m \u001b[0;36m1000\u001b[0m\u001b[0;34m\u001b[0m\u001b[0m\n\u001b[0m\u001b[1;32m     33\u001b[0m     \u001b[0;31m####################################################################\u001b[0m\u001b[0;34m\u001b[0m\u001b[0;34m\u001b[0m\u001b[0m\n\u001b[1;32m     34\u001b[0m     \u001b[0;31m######                 Data Wrapping (NetCDF)                #######\u001b[0m\u001b[0;34m\u001b[0m\u001b[0;34m\u001b[0m\u001b[0m\n",
      "\u001b[0;31mNameError\u001b[0m: name 'var_key_SFlux' is not defined"
     ]
    }
   ],
   "source": [
    "if __name__==\"__main__\":\n",
    "    ####################################################################\n",
    "    ######  Create time namelist matrix for variable extraction  #######\n",
    "    ####################################################################\n",
    "    # date and time arrangement\n",
    "    # namelist of month and days for file manipulation\n",
    "    namelist_month = ['01','02','03','04','05','06','07','08','09','10','11','12']\n",
    "    # index of months\n",
    "    period = np.arange(start_year,end_year+1,1)\n",
    "    index_month = np.arange(1,13,1)\n",
    "    latitude = benchmark_key.variables['lat'][:]\n",
    "    longitude = benchmark_key.variables['lon'][:]\n",
    "    ####################################################################\n",
    "    ######       Extract invariant and calculate constants       #######\n",
    "    ####################################################################\n",
    "    # get invariant from benchmark file\n",
    "    Dim_year = len(period)\n",
    "    Dim_month = len(index_month)\n",
    "    Dim_latitude = len(latitude)\n",
    "    Dim_longitude = len(longitude)\n",
    "    #############################################\n",
    "    #####   Create space for stroing data   #####\n",
    "    #############################################\n",
    "    # data pool for zonal integral\n",
    "    pool_prec = np.zeros((Dim_year,Dim_month,Dim_latitude,Dim_longitude),dtype = float)\n",
    "    # loop for calculation\n",
    "    for i in period:\n",
    "        for j in index_month:\n",
    "            # get the key of each variable\n",
    "            var_key_prec = var_key_retrieve(datapath_prec,i,j)\n",
    "            # convert from kg/m2s to m/s\n",
    "            pool_prec[i-1980,j-1,:,:] = var_key_prec.variables['PRECPTOT'][0,:,:]* 86400 / (24*3600) / 1000\n",
    "    ####################################################################\n",
    "    ######                 Data Wrapping (NetCDF)                #######\n",
    "    ####################################################################\n",
    "    create_netcdf_point(pool_prec, output_path)\n",
    "    print ('Packing 2D fields of MERRA2 is complete!!!')\n",
    "    print ('The output is in sleep, safe and sound!!!')"
   ]
  }
 ],
 "metadata": {
  "kernelspec": {
   "display_name": "Python 3",
   "language": "python",
   "name": "python3"
  },
  "language_info": {
   "codemirror_mode": {
    "name": "ipython",
    "version": 3
   },
   "file_extension": ".py",
   "mimetype": "text/x-python",
   "name": "python",
   "nbconvert_exporter": "python",
   "pygments_lexer": "ipython3",
   "version": "3.6.5"
  }
 },
 "nbformat": 4,
 "nbformat_minor": 2
}

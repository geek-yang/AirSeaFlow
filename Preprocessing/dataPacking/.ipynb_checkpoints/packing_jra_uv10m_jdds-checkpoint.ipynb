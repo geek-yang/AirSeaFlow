{
 "cells": [
  {
   "cell_type": "markdown",
   "metadata": {},
   "source": [
    "# Copyright Netherlands eScience Center <br>\n",
    "** Function     : Packing netCDF for the surface wind fields (uv10m) from JRA55** <br>\n",
    "** Author       : Yang Liu ** <br>\n",
    "** First Built  : 2019.10.10 ** <br>\n",
    "** Last Update  : 2019.10.12 ** <br>\n",
    "Description     : This notebook aims to pack the surface wind fields from JRA55.<br>\n",
    "Return Values   : netCDF4 <br>\n",
    "Caveat          : "
   ]
  },
  {
   "cell_type": "code",
   "execution_count": 6,
   "metadata": {},
   "outputs": [],
   "source": [
    "import numpy as np\n",
    "from netCDF4 import Dataset\n",
    "import pygrib\n",
    "import os"
   ]
  },
  {
   "cell_type": "markdown",
   "metadata": {},
   "source": [
    "Initialization - Start with location of input and extraction of variables\n",
    "Time span of each product:\n",
    "- **ERA-Interim** 1979 - 2016\n",
    "- **MERRA2**      1980 - 2016\n",
    "- **JRA55**       1979 - 2015\n",
    "- **ORAS4**       1958 - 2017\n",
    "- **GLORYS2V3**   1993 - 2014\n",
    "- **SODA3**       1980 - 2015"
   ]
  },
  {
   "cell_type": "code",
   "execution_count": 7,
   "metadata": {},
   "outputs": [],
   "source": [
    "################################   Input zone  ######################################\n",
    "# specify starting and ending time\n",
    "start_year = 1979\n",
    "end_year = 2017\n",
    "# specify data path\n",
    "# JRA55 2D fields - radiations\n",
    "datapath = '/home/ESLT0068/WorkFlow/Core_Database_AMET_OMET_reanalysis/JRA55/regression/surface'\n",
    "# specify output path for figures\n",
    "output_path = '/home/ESLT0068/WorkFlow/Core_Database_AMET_OMET_reanalysis/JRA55/regression'\n",
    "####################################################################################"
   ]
  },
  {
   "cell_type": "code",
   "execution_count": 8,
   "metadata": {},
   "outputs": [
    {
     "name": "stdout",
     "output_type": "stream",
     "text": [
      "Number of messages 7\n",
      "1:Surface pressure:Pa (avgua):reduced_gg:surface:level 0:fcst time 0 hrs (avgua):from 199102010000\n",
      "2:Potential temperature:K (avgua):reduced_gg:surface:level 0:fcst time 0 hrs (avgua):from 199102010000\n",
      "3:2 metre temperature:K (avgua):reduced_gg:heightAboveGround:level 2:fcst time 0 hrs (avgua):from 199102010000\n",
      "4:2 metre specific humidity:kg kg**-1 (avgua):reduced_gg:heightAboveGround:level 2:fcst time 0 hrs (avgua):from 199102010000\n",
      "5:2 metre relative humidity:% (avgua):reduced_gg:heightAboveGround:level 2:fcst time 0 hrs (avgua):from 199102010000\n",
      "6:10 metre U wind component:m s**-1 (avgua):reduced_gg:heightAboveGround:level 10:fcst time 0 hrs (avgua):from 199102010000\n",
      "7:10 metre V wind component:m s**-1 (avgua):reduced_gg:heightAboveGround:level 10:fcst time 0 hrs (avgua):from 199102010000\n"
     ]
    }
   ],
   "source": [
    "# benmark data and basic dimensions extraction\n",
    "benchmark_grbs = pygrib.open(os.path.join(datapath,'anl_surf.199102'))\n",
    "print ('Number of messages',benchmark_grbs.messages)\n",
    "for messenger in benchmark_grbs:\n",
    "    print (messenger)\n",
    "benchmark_key = benchmark_grbs.message(1)\n",
    "lats, lons = benchmark_key.latlons()\n",
    "latitude = lats[:,0]\n",
    "longitude = lons[0,:]* (-639.569395018) # the coordinate is not right\n",
    "longitude[0] = 0\n",
    "benchmark_grbs.close()\n",
    "#print (latitude)\n",
    "#print (longitude)"
   ]
  },
  {
   "cell_type": "code",
   "execution_count": 12,
   "metadata": {},
   "outputs": [],
   "source": [
    "def data_extract(datapath, namelist_month, latitude, longitude):\n",
    "    print ('*******************************************************************')\n",
    "    print ('*********************** extract variables *************************')\n",
    "    print ('*******************************************************************')\n",
    "    #############################################\n",
    "    #####   Create space for stroing data   #####\n",
    "    #############################################\n",
    "    # data pool\n",
    "    pool_u10 = np.zeros((len(period),len(month),len(latitude),len(longitude)),dtype=float)\n",
    "    pool_v10 = np.zeros((len(period),len(month),len(latitude),len(longitude)),dtype=float)\n",
    "    \n",
    "    for i in period:\n",
    "        for j in month:\n",
    "            datapath_grbs = pygrib.open(os.path.join(datapath, 'anl_surf.{0}{1}'.format(i,namelist_month[j-1])))\n",
    "            # read messages\n",
    "            key_u10 = datapath_grbs.message(6)\n",
    "            var_u10 = key_u10.values\n",
    "            key_v10 = datapath_grbs.message(7)\n",
    "            var_v10 = key_v10.values\n",
    "            # close file\n",
    "            datapath_grbs.close()\n",
    "            pool_u10[i-1979,j-1,:,:] = var_u10\n",
    "            pool_v10[i-1979,j-1,:,:] = var_v10\n",
    "\n",
    "        print(\"Post-process data of {}\".format(i))\n",
    "    \n",
    "    return pool_u10, pool_v10"
   ]
  },
  {
   "cell_type": "code",
   "execution_count": 10,
   "metadata": {},
   "outputs": [],
   "source": [
    "def pack_netcdf_point (pool_u10, pool_v10, output_path):\n",
    "    print ('*******************************************************************')\n",
    "    print ('*********************** create netcdf file*************************')\n",
    "    print ('*******************************************************************')\n",
    "    #logging.info(\"Start creating netcdf file for the 2D fields of ERAI at each grid point.\")\n",
    "    # wrap the datasets into netcdf file\n",
    "    # 'NETCDF3_CLASSIC', 'NETCDF3_64BIT', 'NETCDF4_CLASSIC', and 'NETCDF4'\n",
    "    data_wrap = Dataset(os.path.join(output_path, 'surface_JRA55_monthly_model_regress_1979_2017_uv10m.nc'),'w',format = 'NETCDF4')\n",
    "    # create dimensions for netcdf data\n",
    "    year_wrap_dim = data_wrap.createDimension('year',len(period))\n",
    "    month_wrap_dim = data_wrap.createDimension('month',len(month))\n",
    "    lat_wrap_dim = data_wrap.createDimension('latitude',len(latitude))\n",
    "    lon_wrap_dim = data_wrap.createDimension('longitude',len(longitude))\n",
    "    # create coordinate variables for 1-dimensions\n",
    "    year_wrap_var = data_wrap.createVariable('year',np.int32,('year',))\n",
    "    month_wrap_var = data_wrap.createVariable('month',np.int32,('month',))\n",
    "    lat_wrap_var = data_wrap.createVariable('latitude',np.float32,('latitude',))\n",
    "    lon_wrap_var = data_wrap.createVariable('longitude',np.float32,('longitude',))\n",
    "    # create the actual 4d variable\n",
    "    u10_wrap_var = data_wrap.createVariable('u10',np.float64,('year','month','latitude','longitude'),zlib=True)\n",
    "    v10_wrap_var = data_wrap.createVariable('v10',np.float64,('year','month','latitude','longitude'),zlib=True)\n",
    "    # global attributes\n",
    "    data_wrap.description = 'Monthly mean 2D fields of ERA-Interim on surface level'\n",
    "    # variable attributes\n",
    "    lat_wrap_var.units = 'degree_north'\n",
    "    lon_wrap_var.units = 'degree_east'\n",
    "\n",
    "    u10_wrap_var.units = 'm/s'\n",
    "    v10_wrap_var.units = 'm/s'\n",
    "\n",
    "    u10_wrap_var.long_name = '10m zonal wind'\n",
    "    v10_wrap_var.long_name = '10m meridional wind'\n",
    "\n",
    "    # writing data\n",
    "    year_wrap_var[:] = period\n",
    "    lat_wrap_var[:] = latitude\n",
    "    lon_wrap_var[:] = longitude\n",
    "    month_wrap_var[:] = month\n",
    "\n",
    "    u10_wrap_var[:] = pool_u10\n",
    "    v10_wrap_var[:] = pool_v10\n",
    "\n",
    "    # close the file\n",
    "    data_wrap.close()\n",
    "    print (\"The generation of netcdf files for fields on surface is complete!!\")"
   ]
  },
  {
   "cell_type": "code",
   "execution_count": 13,
   "metadata": {},
   "outputs": [
    {
     "name": "stdout",
     "output_type": "stream",
     "text": [
      "*******************************************************************\n",
      "*********************** extract variables *************************\n",
      "*******************************************************************\n",
      "Post-process data of 1979\n",
      "Post-process data of 1980\n",
      "Post-process data of 1981\n",
      "Post-process data of 1982\n",
      "Post-process data of 1983\n",
      "Post-process data of 1984\n",
      "Post-process data of 1985\n",
      "Post-process data of 1986\n",
      "Post-process data of 1987\n",
      "Post-process data of 1988\n",
      "Post-process data of 1989\n",
      "Post-process data of 1990\n",
      "Post-process data of 1991\n",
      "Post-process data of 1992\n",
      "Post-process data of 1993\n",
      "Post-process data of 1994\n",
      "Post-process data of 1995\n",
      "Post-process data of 1996\n",
      "Post-process data of 1997\n",
      "Post-process data of 1998\n",
      "Post-process data of 1999\n",
      "Post-process data of 2000\n",
      "Post-process data of 2001\n",
      "Post-process data of 2002\n",
      "Post-process data of 2003\n",
      "Post-process data of 2004\n",
      "Post-process data of 2005\n",
      "Post-process data of 2006\n",
      "Post-process data of 2007\n",
      "Post-process data of 2008\n",
      "Post-process data of 2009\n",
      "Post-process data of 2010\n",
      "Post-process data of 2011\n",
      "Post-process data of 2012\n",
      "Post-process data of 2013\n",
      "Post-process data of 2014\n",
      "Post-process data of 2015\n",
      "Post-process data of 2016\n",
      "Post-process data of 2017\n"
     ]
    },
    {
     "ename": "NameError",
     "evalue": "name 'pack_netcdf_point' is not defined",
     "output_type": "error",
     "traceback": [
      "\u001b[0;31m---------------------------------------------------------------------------\u001b[0m",
      "\u001b[0;31mNameError\u001b[0m                                 Traceback (most recent call last)",
      "\u001b[0;32m<ipython-input-13-3258c2a2eb2e>\u001b[0m in \u001b[0;36m<module>\u001b[0;34m()\u001b[0m\n\u001b[1;32m      4\u001b[0m     \u001b[0mnamelist_month\u001b[0m \u001b[0;34m=\u001b[0m \u001b[0;34m[\u001b[0m\u001b[0;34m'01'\u001b[0m\u001b[0;34m,\u001b[0m\u001b[0;34m'02'\u001b[0m\u001b[0;34m,\u001b[0m\u001b[0;34m'03'\u001b[0m\u001b[0;34m,\u001b[0m\u001b[0;34m'04'\u001b[0m\u001b[0;34m,\u001b[0m\u001b[0;34m'05'\u001b[0m\u001b[0;34m,\u001b[0m\u001b[0;34m'06'\u001b[0m\u001b[0;34m,\u001b[0m\u001b[0;34m'07'\u001b[0m\u001b[0;34m,\u001b[0m\u001b[0;34m'08'\u001b[0m\u001b[0;34m,\u001b[0m\u001b[0;34m'09'\u001b[0m\u001b[0;34m,\u001b[0m\u001b[0;34m'10'\u001b[0m\u001b[0;34m,\u001b[0m\u001b[0;34m'11'\u001b[0m\u001b[0;34m,\u001b[0m\u001b[0;34m'12'\u001b[0m\u001b[0;34m]\u001b[0m\u001b[0;34m\u001b[0m\u001b[0m\n\u001b[1;32m      5\u001b[0m     \u001b[0mpool_u10\u001b[0m\u001b[0;34m,\u001b[0m \u001b[0mpool_v10\u001b[0m \u001b[0;34m=\u001b[0m \u001b[0mdata_extract\u001b[0m\u001b[0;34m(\u001b[0m\u001b[0mdatapath\u001b[0m\u001b[0;34m,\u001b[0m \u001b[0mnamelist_month\u001b[0m\u001b[0;34m,\u001b[0m \u001b[0mlatitude\u001b[0m\u001b[0;34m,\u001b[0m \u001b[0mlongitude\u001b[0m\u001b[0;34m)\u001b[0m\u001b[0;34m\u001b[0m\u001b[0m\n\u001b[0;32m----> 6\u001b[0;31m     \u001b[0mpack_netcdf_point\u001b[0m\u001b[0;34m(\u001b[0m\u001b[0mpool_u10\u001b[0m\u001b[0;34m,\u001b[0m \u001b[0mpool_v10\u001b[0m\u001b[0;34m,\u001b[0m \u001b[0moutput_path\u001b[0m\u001b[0;34m)\u001b[0m\u001b[0;34m\u001b[0m\u001b[0m\n\u001b[0m\u001b[1;32m      7\u001b[0m     \u001b[0mprint\u001b[0m \u001b[0;34m(\u001b[0m\u001b[0;34m'Packing netcdf files complete!'\u001b[0m\u001b[0;34m)\u001b[0m\u001b[0;34m\u001b[0m\u001b[0m\n\u001b[1;32m      8\u001b[0m \u001b[0;34m\u001b[0m\u001b[0m\n",
      "\u001b[0;31mNameError\u001b[0m: name 'pack_netcdf_point' is not defined"
     ]
    }
   ],
   "source": [
    "if __name__==\"__main__\":\n",
    "    period = np.arange(start_year,end_year+1,1)\n",
    "    month = np.arange(1,13,1)\n",
    "    namelist_month = ['01','02','03','04','05','06','07','08','09','10','11','12']\n",
    "    pool_u10, pool_v10 = data_extract(datapath, namelist_month, latitude, longitude)\n",
    "    pack_netcdf_point(pool_u10, pool_v10, output_path)\n",
    "    print ('Packing netcdf files complete!')\n",
    "\n",
    "print (\"Create netcdf file successfully\")"
   ]
  }
 ],
 "metadata": {
  "kernelspec": {
   "display_name": "Python 3",
   "language": "python",
   "name": "python3"
  },
  "language_info": {
   "codemirror_mode": {
    "name": "ipython",
    "version": 3
   },
   "file_extension": ".py",
   "mimetype": "text/x-python",
   "name": "python",
   "nbconvert_exporter": "python",
   "pygments_lexer": "ipython3",
   "version": "3.6.5"
  }
 },
 "nbformat": 4,
 "nbformat_minor": 2
}

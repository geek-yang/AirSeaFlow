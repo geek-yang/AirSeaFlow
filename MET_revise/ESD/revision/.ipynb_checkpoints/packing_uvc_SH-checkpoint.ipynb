{
 "cells": [
  {
   "cell_type": "markdown",
   "metadata": {},
   "source": [
    "# Copyright Netherlands eScience Center <br>\n",
    "** Function     : Packing barotropic correction wind (MERRA2,ERA-Interim,JRA55)** <br>\n",
    "** Author       : Yang Liu ** <br>\n",
    "** First Built  : 2019.07.06 ** <br>\n",
    "** Last Update  : 2019.07.14 ** <br>\n",
    "Description     : The code aims to pack the barotropic wind correction from mass budget\n",
    "                  correction via spherical harmonics. In this, case, this includes MERRA2\n",
    "                  from NASA, ERA-Interim from ECMWF and JRA55 from JMA. <br>\n",
    "\n",
    "Return Value    : NetCFD4 data file<br>\n",
    "Dependencies    : os, time, numpy, netCDF4, sys, matplotlib, logging<br>\n",
    "variables       : Atmospheric Meridional Energy Transport   ERA-Interim     MERRA2       JRA55<br>\n",
    "                  Oceanic Meridional Energy Transport       ORAS4           GLORYS2V3    SODA3<br>\n",
    "Caveat!!        : Spatial and temporal coverage<br>\n",
    "                  Atmosphere<br>\n",
    "                  ERA-Interim   1979 - 2016<br>\n",
    "                  MERRA2        1980 - 2016<br>\n",
    "                  JRA55         1979 - 2015<br>\n",
    "                  Ocean<br>\n",
    "                  GLORYS2V3     1993 - 2014<br>\n",
    "                  ORAS4         1958 - 2014<br>\n",
    "                  SODA3         1980 - 2015<br>\n",
    "                  NEMO ORCA0083 1979 - 2012<br>\n",
    "                  The full dataset of ORAS4 is from 1958. However, a quality report from\n",
    "                  Magdalena from ECMWF indicates the quality of data for the first\n",
    "                  two decades are very poor. Hence we use the data from 1979. which\n",
    "                  is the start of satellite era.<br>\n",
    "                  The full dataset of ORAS4 is from 1958.<br>\n",
    "                  Data from 20N - 90N are taken into account!<br>"
   ]
  },
  {
   "cell_type": "code",
   "execution_count": 3,
   "metadata": {},
   "outputs": [],
   "source": [
    "import sys\n",
    "sys.path.append(\"/home/ESLT0068/NLeSC/Computation_Modeling/Bjerknes/Scripts/META\")\n",
    "import numpy as np\n",
    "import time as tttt\n",
    "from netCDF4 import Dataset,num2date\n",
    "import os\n",
    "import platform\n",
    "import sys\n",
    "import logging\n",
    "import matplotlib\n",
    "import matplotlib.pyplot as plt\n",
    "from scipy import stats\n",
    "import meta.wrapup"
   ]
  },
  {
   "cell_type": "code",
   "execution_count": 4,
   "metadata": {},
   "outputs": [],
   "source": [
    "# constants\n",
    "constant = {'g' : 9.80616,      # gravititional acceleration [m / s2]\n",
    "            'R' : 6371009,      # radius of the earth [m]\n",
    "            'cp': 1004.64,      # heat capacity of air [J/(Kg*K)]\n",
    "            'Lv': 2264670,      # Latent heat of vaporization [J/Kg]\n",
    "            'R_dry' : 286.9,    # gas constant of dry air [J/(kg*K)]\n",
    "            'R_vap' : 461.5,    # gas constant for water vapour [J/(kg*K)]\n",
    "            }"
   ]
  },
  {
   "cell_type": "code",
   "execution_count": 5,
   "metadata": {},
   "outputs": [],
   "source": [
    "# specify data path\n",
    "datapath_JRA55 = '/home/ESLT0068/WorkFlow/Core_Database_AMET_OMET_reanalysis/warehouse_met/SphericalHarmonics/JRA55/GaussianG'\n",
    "# specify output path for the netCDF4 file\n",
    "#output_path = '/home/yang/NLeSC/PhD/Paperwork/Article/AMET_OMET/figures'\n",
    "output_path = '/home/ESLT0068/WorkFlow/Core_Database_AMET_OMET_reanalysis/warehouse_met/SphericalHarmonics'\n",
    "# which data\n",
    "option = 'jra'"
   ]
  },
  {
   "cell_type": "code",
   "execution_count": null,
   "metadata": {},
   "outputs": [],
   "source": [
    "def ERAI():\n",
    "    print ('*******************  ERAI  *********************')"
   ]
  },
  {
   "cell_type": "code",
   "execution_count": 6,
   "metadata": {},
   "outputs": [],
   "source": [
    "def JRA55():\n",
    "    print ('*******************  JRA55  *********************')\n",
    "    datapath_1 = os.path.join(datapath_JRA55,'jra_model_subdaily_1979_1999_uvc_point.nc')\n",
    "    datapath_2 = os.path.join(datapath_JRA55,'jra_model_subdaily_2000_2013_uvc_point.nc')\n",
    "    datapath_3 = os.path.join(datapath_JRA55,'jra_model_subdaily_2014_2016_uvc_point.nc')\n",
    "\n",
    "    var_key_1 = Dataset(datapath_1)\n",
    "    var_key_2 = Dataset(datapath_2)\n",
    "    var_key_3 = Dataset(datapath_3)\n",
    "\n",
    "    latitude = var_key_1.variables['latitude'][:]\n",
    "    longitude = var_key_1.variables['longitude'][:]    \n",
    "    period = np.arange(1979,2016+1,1)\n",
    "    month = np.arange(1,13,1)\n",
    "    \n",
    "    pool_uc = np.zeros((len(period),len(month),len(latitude),len(longitude)),dtype = float)\n",
    "    pool_vc = np.zeros((len(period),len(month),len(latitude),len(longitude)),dtype = float)\n",
    "    \n",
    "    # year - 1979 : year -1979 +1\n",
    "    pool_uc[:21,:,:,:] = var_key_1.variables['uc'][:]\n",
    "    pool_vc[:21,:,:,:] = var_key_1.variables['vc'][:]\n",
    "    pool_uc[21:35,:,:,:] = var_key_2.variables['uc'][:]\n",
    "    pool_vc[21:35,:,:,:] = var_key_2.variables['vc'][:]\n",
    "    pool_uc[35:,:,:,:] = var_key_3.variables['uc'][:]\n",
    "    pool_vc[35:,:,:,:] = var_key_3.variables['vc'][:]\n",
    "    \n",
    "    return pool_uc, pool_vc, period, month, latitude, longitude"
   ]
  },
  {
   "cell_type": "code",
   "execution_count": 13,
   "metadata": {},
   "outputs": [],
   "source": [
    "# save output datasets\n",
    "# we only pack our timeseries from 1979 to 2016\n",
    "def create_netcdf_point (uc, vc, name, period, month, latitude, longitude, output_path):\n",
    "    print ('*******************************************************************')\n",
    "    print ('*********************** create netcdf file*************************')\n",
    "    print ('*******************************************************************')\n",
    "    print(\"Start creating netcdf file for SIV from 1979 to 2017.\")\n",
    "    # wrap the datasets into netcdf file\n",
    "    # 'NETCDF3_CLASSIC', 'NETCDF3_64BIT', 'NETCDF4_CLASSIC', and 'NETCDF4'\n",
    "    data_wrap = Dataset(os.path.join(output_path,'{0}_model_monthly_uvc_{1}_{2}.nc'.format(name,period[0],period[-1])),\n",
    "                        'w',format = 'NETCDF4')\n",
    "    # create dimensions for netcdf data\n",
    "    year_wrap_dim = data_wrap.createDimension('year', len(period))\n",
    "    month_wrap_dim = data_wrap.createDimension('month', len(month))\n",
    "    lat_wrap_dim = data_wrap.createDimension('latitude', len(latitude))\n",
    "    lon_wrap_dim = data_wrap.createDimension('longitude', len(longitude))\n",
    "    # create coordinate variables for 3-dimensions\n",
    "    year_wrap_var = data_wrap.createVariable('year',np.int32,('year',))\n",
    "    month_wrap_var = data_wrap.createVariable('month',np.int32,('month',))\n",
    "    lat_wrap_var = data_wrap.createVariable('latitude',np.float64,('latitude',))\n",
    "    lon_wrap_var = data_wrap.createVariable('longitude',np.float64,('longitude',))\n",
    "    # create the actual 4-d variable\n",
    "    uc_wrap_var = data_wrap.createVariable('uc',np.float64,('year','month','latitude','longitude'))\n",
    "    vc_wrap_var = data_wrap.createVariable('vc',np.float64,('year','month','latitude','longitude'))\n",
    "\n",
    "    # global attributes\n",
    "    data_wrap.description = 'Monthly barotropic correction wind.'\n",
    "    # variable attributes\n",
    "    lat_wrap_var.units = 'degree_north'\n",
    "    lon_wrap_var.units = 'degree_east'\n",
    "    uc_wrap_var.units = 'm/s'\n",
    "    uc_wrap_var.long_name = 'barotropic correction zonal wind'\n",
    "    vc_wrap_var.units = 'm/s'\n",
    "    vc_wrap_var.long_name = 'barotropic correction meridional wind'\n",
    "\n",
    "    # writing data\n",
    "    year_wrap_var[:] = period\n",
    "    month_wrap_var[:] = month\n",
    "    lat_wrap_var[:] = latitude\n",
    "    lon_wrap_var[:] = longitude\n",
    "    uc_wrap_var[:] = uc\n",
    "    vc_wrap_var[:] = vc\n",
    "\n",
    "    # close the file\n",
    "    data_wrap.close()\n",
    "    print (\"Create netcdf file successfully\")"
   ]
  },
  {
   "cell_type": "code",
   "execution_count": 14,
   "metadata": {},
   "outputs": [
    {
     "name": "stdout",
     "output_type": "stream",
     "text": [
      "*******************  JRA55  *********************\n",
      "*******************************************************************\n",
      "*********************** create netcdf file*************************\n",
      "*******************************************************************\n",
      "Start creating netcdf file for SIV from 1979 to 2017.\n",
      "Create netcdf file successfully\n",
      "Packing 2D fields of ERA-Interim on surface level is complete!!!\n",
      "The output is in sleep, safe and sound!!!\n"
     ]
    }
   ],
   "source": [
    "if __name__==\"__main__\":\n",
    "    if option == 'jra':\n",
    "        uc, vc, period, month, latitude, longitude = JRA55()\n",
    "    elif option =='era':\n",
    "        uc, vc, period, month, latitude, longitude = ERAI()\n",
    "    ####################################################################\n",
    "    ######                 Data Wrapping (NetCDF)                #######\n",
    "    ####################################################################\n",
    "    # round off the values in case of leaking\n",
    "    #pool_sic = np.around(pool_sic,decimals=6)\n",
    "    create_netcdf_point(uc, vc, option, period, month,\n",
    "                        latitude, longitude, output_path)\n",
    "    print ('Packing 2D fields of ERA-Interim on surface level is complete!!!')\n",
    "    print ('The output is in sleep, safe and sound!!!')"
   ]
  }
 ],
 "metadata": {
  "kernelspec": {
   "display_name": "Python 3",
   "language": "python",
   "name": "python3"
  },
  "language_info": {
   "codemirror_mode": {
    "name": "ipython",
    "version": 3
   },
   "file_extension": ".py",
   "mimetype": "text/x-python",
   "name": "python",
   "nbconvert_exporter": "python",
   "pygments_lexer": "ipython3",
   "version": "3.6.5"
  }
 },
 "nbformat": 4,
 "nbformat_minor": 2
}

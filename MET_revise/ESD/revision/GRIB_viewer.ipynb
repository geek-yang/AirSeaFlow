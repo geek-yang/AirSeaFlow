{
 "cells": [
  {
   "cell_type": "markdown",
   "metadata": {},
   "source": [
    "# Copyright Netherlands eScience Center <br>\n",
    "** Function     : First Check of GRIB file** <br>\n",
    "** Author       : Yang Liu ** <br>\n",
    "** First Built  : 2019.04.06 ** <br>\n",
    "** Last Update  : 2019.06.16 ** <br>\n",
    "Description     : The code aims to take a first look at the GRIB file.<br>\n",
    "\n",
    "Return Value    : NetCFD4 data file<br>\n",
    "Dependencies    : os, time, numpy, netCDF4, sys, matplotlib, logging<br>\n",
    "variables       : Atmospheric Meridional Energy Transport   ERA-Interim     MERRA2       JRA55<br>\n",
    "                  Oceanic Meridional Energy Transport       ORAS4           GLORYS2V3    SODA3<br>\n",
    "Caveat!!        : Spatial and temporal coverage<br>\n",
    "                  Atmosphere<br>\n",
    "                  ERA-Interim   1979 - 2016<br>\n",
    "                  MERRA2        1980 - 2016<br>\n",
    "                  JRA55         1979 - 2015<br>\n",
    "                  Ocean<br>\n",
    "                  GLORYS2V3     1993 - 2014<br>\n",
    "                  ORAS4         1958 - 2014<br>\n",
    "                  SODA3         1980 - 2015<br>\n",
    "                  NEMO ORCA0083 1979 - 2012<br>\n",
    "                  The full dataset of ORAS4 is from 1958. However, a quality report from\n",
    "                  Magdalena from ECMWF indicates the quality of data for the first\n",
    "                  two decades are very poor. Hence we use the data from 1979. which\n",
    "                  is the start of satellite era.<br>\n",
    "                  The full dataset of ORAS4 is from 1958.<br>\n",
    "                  Data from 20N - 90N are taken into account!<br>"
   ]
  },
  {
   "cell_type": "code",
   "execution_count": 1,
   "metadata": {},
   "outputs": [],
   "source": [
    "import sys\n",
    "sys.path.append(\"/home/ESLT0068/NLeSC/Computation_Modeling/Bjerknes/Scripts/META\")\n",
    "import numpy as np\n",
    "import time as tttt\n",
    "from netCDF4 import Dataset,num2date\n",
    "import os\n",
    "import platform\n",
    "import sys\n",
    "import logging\n",
    "import matplotlib\n",
    "from mpl_toolkits.mplot3d import Axes3D\n",
    "# generate images without having a window appear\n",
    "#matplotlib.use('Agg')\n",
    "import matplotlib.pyplot as plt\n",
    "import pygrib"
   ]
  },
  {
   "cell_type": "code",
   "execution_count": 2,
   "metadata": {},
   "outputs": [
    {
     "name": "stdout",
     "output_type": "stream",
     "text": [
      "CPU times: user 6.51 s, sys: 1.08 s, total: 7.59 s\n",
      "Wall time: 7.61 s\n"
     ]
    }
   ],
   "source": [
    "%%time\n",
    "# specify data path\n",
    "datapath_ERAI = '/home/ESLT0068/WorkFlow/Test'\n",
    "#grbs = pygrib.open(os.path.join(datapath_ERAI,'erai_N128_200501_z_lnsp.grib'))\n",
    "grbs = pygrib.open(os.path.join(datapath_ERAI,'erai_N128_200501_full.grib'))"
   ]
  },
  {
   "cell_type": "code",
   "execution_count": 3,
   "metadata": {},
   "outputs": [
    {
     "name": "stdout",
     "output_type": "stream",
     "text": [
      "CPU times: user 201 ms, sys: 13.2 ms, total: 214 ms\n",
      "Wall time: 128 ms\n"
     ]
    }
   ],
   "source": [
    "%%time\n",
    "k = grbs.messages\n",
    "key = grbs.message(1)\n",
    "lats, lons = key.latlons()\n",
    "lat = lats[:,0]\n",
    "lon = lons[0,:]\n",
    "gz = key.values\n",
    "\n",
    "key2 = grbs.message(250)\n",
    "q = key2.values"
   ]
  },
  {
   "cell_type": "code",
   "execution_count": 6,
   "metadata": {},
   "outputs": [
    {
     "name": "stdout",
     "output_type": "stream",
     "text": [
      "30008\n",
      "[[ 2.82651147e+03  9.18253662e+02  3.02770996e+01 -1.82775879e+01\n",
      "  -2.14260254e+01  3.46989746e+01 -5.82385254e+01  1.63239746e+01\n",
      "  -5.39885254e+01  1.04214600e+02]\n",
      " [ 8.65011475e+02  8.74255371e+01 -8.50666504e+01 -7.95727539e+00\n",
      "  -5.57072754e+01  5.61208496e+01 -2.99729004e+01  6.92927246e+01\n",
      "  -4.39885254e+01  1.90991211e+00]\n",
      " [-7.39885254e+01 -5.89885254e+01 -4.89885254e+01  4.70114746e+01\n",
      "  -6.98852539e+00  1.80114746e+01 -4.69885254e+01  1.80114746e+01\n",
      "  -1.99885254e+01  3.70114746e+01]\n",
      " [-1.10988525e+02 -4.39885254e+01  7.01147461e+00 -2.59885254e+01\n",
      "  -2.98852539e+00  4.01147461e+00  2.50114746e+01  3.01147461e+00\n",
      "  -1.19885254e+01  8.01147461e+00]\n",
      " [-2.19885254e+01  3.01147461e+00  3.50114746e+01  1.01147461e+00\n",
      "   2.60114746e+01 -2.29885254e+01 -7.98852539e+00  1.01147461e+00\n",
      "   6.01147461e+00  1.00114746e+01]\n",
      " [-8.98852539e+00  1.70114746e+01 -3.19885254e+01 -5.98852539e+00\n",
      "  -1.29885254e+01  1.80114746e+01  6.01147461e+00  1.01147461e+00\n",
      "  -1.09885254e+01  4.01147461e+00]\n",
      " [ 1.70114746e+01  9.01147461e+00  4.01147461e+00  4.00114746e+01\n",
      "  -2.19885254e+01  1.00114746e+01 -1.89885254e+01  1.40114746e+01\n",
      "   4.01147461e+00  1.14746094e-02]\n",
      " [-1.99885254e+01 -4.98852539e+00 -1.49885254e+01 -1.79885254e+01\n",
      "   3.01147461e+00  1.20114746e+01 -9.88525391e-01 -5.98852539e+00\n",
      "   2.01147461e+00 -1.49885254e+01]\n",
      " [ 6.01147461e+00  1.50114746e+01  2.50114746e+01 -1.98852539e+00\n",
      "   1.90114746e+01 -3.09885254e+01  2.80114746e+01 -1.49885254e+01\n",
      "   2.00114746e+01 -6.98852539e+00]\n",
      " [ 6.01147461e+00 -3.19885254e+01 -2.98852539e+00 -2.09885254e+01\n",
      "   2.20114746e+01 -1.49885254e+01  1.60114746e+01 -2.09885254e+01\n",
      "   6.01147461e+00 -4.98852539e+00]]\n",
      "[[3.98178213e-06 3.98178915e-06 3.98173478e-06 3.98163047e-06\n",
      "  3.98151610e-06 3.98139633e-06 3.98128856e-06 3.98115634e-06\n",
      "  3.98099291e-06 3.98078686e-06]\n",
      " [3.98165344e-06 3.98165574e-06 3.98161052e-06 3.98152923e-06\n",
      "  3.98144937e-06 3.98135472e-06 3.98127571e-06 3.98117945e-06\n",
      "  3.98106931e-06 3.98092720e-06]\n",
      " [3.98122938e-06 3.98120028e-06 3.98115299e-06 3.98109478e-06\n",
      "  3.98105840e-06 3.98102202e-06 3.98100383e-06 3.98096745e-06\n",
      "  3.98092379e-06 3.98085831e-06]\n",
      " [3.98042175e-06 3.98040720e-06 3.98039629e-06 3.98038901e-06\n",
      "  3.98042175e-06 3.98046905e-06 3.98054181e-06 3.98060001e-06\n",
      "  3.98064731e-06 3.98066913e-06]\n",
      " [3.97956683e-06 3.97961048e-06 3.97966505e-06 3.97972690e-06\n",
      "  3.97982512e-06 3.97993790e-06 3.98007978e-06 3.98020347e-06\n",
      "  3.98032353e-06 3.98042175e-06]\n",
      " [3.97892654e-06 3.97904296e-06 3.97917393e-06 3.97929398e-06\n",
      "  3.97941403e-06 3.97954136e-06 3.97970507e-06 3.97986878e-06\n",
      "  3.98003249e-06 3.98017073e-06]\n",
      " [3.97870099e-06 3.97885378e-06 3.97900658e-06 3.97914846e-06\n",
      "  3.97925032e-06 3.97935219e-06 3.97950134e-06 3.97966505e-06\n",
      "  3.97985059e-06 3.98002157e-06]\n",
      " [3.97897020e-06 3.97909753e-06 3.97920667e-06 3.97929398e-06\n",
      "  3.97935946e-06 3.97941403e-06 3.97948315e-06 3.97959593e-06\n",
      "  3.97977055e-06 3.97997064e-06]\n",
      " [3.98008706e-06 3.98017437e-06 3.98023622e-06 3.98028351e-06\n",
      "  3.98032716e-06 3.98036354e-06 3.98041084e-06 3.98051634e-06\n",
      "  3.98066186e-06 3.98081102e-06]\n",
      " [3.98222983e-06 3.98230623e-06 3.98236443e-06 3.98241173e-06\n",
      "  3.98245902e-06 3.98252087e-06 3.98260090e-06 3.98267730e-06\n",
      "  3.98275006e-06 3.98280463e-06]]\n",
      "250:Specific humidity:kg kg**-1 (instant):reduced_gg:hybrid:level 1:fcst time 0 hrs:from 200501010000\n",
      "[[0.00038624 0.00038627 0.00038631 ... 0.00038604 0.0003861  0.00038617]\n",
      " [0.00040579 0.00040581 0.00040583 ... 0.00040544 0.00040556 0.00040567]\n",
      " [0.00043058 0.00043055 0.00043052 ... 0.00043018 0.00043032 0.00043045]\n",
      " ...\n",
      " [0.00093937 0.00093903 0.0009387  ... 0.00094038 0.00094004 0.0009397 ]\n",
      " [0.00091791 0.00091777 0.00091763 ... 0.00091791 0.00091791 0.00091791]\n",
      " [0.00084496 0.00084432 0.00084368 ... 0.00084571 0.00084546 0.00084521]]\n"
     ]
    }
   ],
   "source": [
    "#print (lat)\n",
    "#print (lon)\n",
    "print(k)\n",
    "print(gz[100:110,120:130])\n",
    "print(q[100:110,120:130])\n",
    "print(key2)\n",
    "\n",
    "key3 = grbs.message(486)\n",
    "qq = key3.values\n",
    "print(qq)"
   ]
  },
  {
   "cell_type": "code",
   "execution_count": null,
   "metadata": {},
   "outputs": [],
   "source": [
    "namelist = open(os.path.join(datapath_ERAI,'message_list_z_lnsp.txt'),'w+')\n",
    "namelist.write('%s\\n' % 'Message List of GRIB file')\n",
    "# enumerate the message\n",
    "for messenger in grbs:\n",
    "    print (messenger)\n",
    "    namelist.write('%s\\n' % (messenger))\n",
    "namelist.close()"
   ]
  },
  {
   "cell_type": "code",
   "execution_count": null,
   "metadata": {},
   "outputs": [],
   "source": []
  }
 ],
 "metadata": {
  "kernelspec": {
   "display_name": "Python 3",
   "language": "python",
   "name": "python3"
  },
  "language_info": {
   "codemirror_mode": {
    "name": "ipython",
    "version": 3
   },
   "file_extension": ".py",
   "mimetype": "text/x-python",
   "name": "python",
   "nbconvert_exporter": "python",
   "pygments_lexer": "ipython3",
   "version": "3.6.5"
  }
 },
 "nbformat": 4,
 "nbformat_minor": 2
}

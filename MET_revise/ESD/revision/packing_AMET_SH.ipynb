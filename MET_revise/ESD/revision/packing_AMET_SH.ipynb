{
 "cells": [
  {
   "cell_type": "markdown",
   "metadata": {},
   "source": [
    "# Copyright Netherlands eScience Center <br>\n",
    "** Function     : Packing AMET (MERRA2,ERA-Interim,JRA55)** <br>\n",
    "** Author       : Yang Liu ** <br>\n",
    "** First Built  : 2019.04.06 ** <br>\n",
    "** Last Update  : 2019.06.14 ** <br>\n",
    "Description     : The code aims to pack the atmospheric meridional energy transport\n",
    "                  calculated from different atmospheric reanalysis datasets. In this,\n",
    "                  case, this includes MERRA II from NASA, ERA-Interim from ECMWF and\n",
    "                  JRA55 from JMA. The mass budget correction is quantified in spectral\n",
    "                  domain.<br>\n",
    "\n",
    "Return Value    : NetCFD4 data file<br>\n",
    "Dependencies    : os, time, numpy, netCDF4, sys, matplotlib, logging<br>\n",
    "variables       : Atmospheric Meridional Energy Transport   ERA-Interim     MERRA2       JRA55<br>\n",
    "                  Oceanic Meridional Energy Transport       ORAS4           GLORYS2V3    SODA3<br>\n",
    "Caveat!!        : Spatial and temporal coverage<br>\n",
    "                  Atmosphere<br>\n",
    "                  ERA-Interim   1979 - 2016<br>\n",
    "                  MERRA2        1980 - 2016<br>\n",
    "                  JRA55         1979 - 2015<br>\n",
    "                  Ocean<br>\n",
    "                  GLORYS2V3     1993 - 2014<br>\n",
    "                  ORAS4         1958 - 2014<br>\n",
    "                  SODA3         1980 - 2015<br>\n",
    "                  NEMO ORCA0083 1979 - 2012<br>\n",
    "                  The full dataset of ORAS4 is from 1958. However, a quality report from\n",
    "                  Magdalena from ECMWF indicates the quality of data for the first\n",
    "                  two decades are very poor. Hence we use the data from 1979. which\n",
    "                  is the start of satellite era.<br>\n",
    "                  The full dataset of ORAS4 is from 1958.<br>\n",
    "                  Data from 20N - 90N are taken into account!<br>"
   ]
  },
  {
   "cell_type": "code",
   "execution_count": 1,
   "metadata": {},
   "outputs": [],
   "source": [
    "import sys\n",
    "sys.path.append(\"/home/ESLT0068/NLeSC/Computation_Modeling/Bjerknes/Scripts/META\")\n",
    "import numpy as np\n",
    "import time as tttt\n",
    "from netCDF4 import Dataset,num2date\n",
    "import os\n",
    "import platform\n",
    "import sys\n",
    "import logging\n",
    "import matplotlib\n",
    "import matplotlib.pyplot as plt\n",
    "from scipy import stats\n",
    "import meta.wrapup"
   ]
  },
  {
   "cell_type": "code",
   "execution_count": 2,
   "metadata": {},
   "outputs": [],
   "source": [
    "# constants\n",
    "constant = {'g' : 9.80616,      # gravititional acceleration [m / s2]\n",
    "            'R' : 6371009,      # radius of the earth [m]\n",
    "            'cp': 1004.64,      # heat capacity of air [J/(Kg*K)]\n",
    "            'Lv': 2264670,      # Latent heat of vaporization [J/Kg]\n",
    "            'R_dry' : 286.9,    # gas constant of dry air [J/(kg*K)]\n",
    "            'R_vap' : 461.5,    # gas constant for water vapour [J/(kg*K)]\n",
    "            }"
   ]
  },
  {
   "cell_type": "code",
   "execution_count": 7,
   "metadata": {},
   "outputs": [],
   "source": [
    "# specify data path\n",
    "datapath_ERAI = '/home/ESLT0068/WorkFlow/Core_Database_AMET_OMET_reanalysis/warehouse_met/SphericalHarmonics/ERA-Interim/GaussianG'\n",
    "#datapath_MERRA2 = '/home/ESLT0068/WorkFlow/Core_Database_AMET_OMET_reanalysis/MERRA2/postprocessing'\n",
    "datapath_JRA55 = '/home/ESLT0068/WorkFlow/Core_Database_AMET_OMET_reanalysis/warehouse_met/SphericalHarmonics/JRA55/GaussianG'\n",
    "# specify output path for the netCDF4 file\n",
    "#output_path = '/home/yang/NLeSC/PhD/Paperwork/Article/AMET_OMET/figures'\n",
    "output_path = '/home/ESLT0068/WorkFlow/Core_Database_AMET_OMET_reanalysis/warehouse_met/SphericalHarmonics'"
   ]
  },
  {
   "cell_type": "code",
   "execution_count": 9,
   "metadata": {},
   "outputs": [
    {
     "name": "stdout",
     "output_type": "stream",
     "text": [
      "Assemble all the output netCDF files into a single netCDF file.\n"
     ]
    }
   ],
   "source": [
    "#ERAI = meta.wrapup.assembly(1979,2017, datapath_ERAI, output_path)\n",
    "#ERAI.ncAMET()\n",
    "#JRA55 = meta.wrapup.assembly(1979,2016, datapath_JRA55, output_path)\n",
    "#JRA55.ncAMET(name='JRA55')\n",
    "MERRA2 = meta.wrapup.assembly(1980,2017, datapath_MERRA2, output_path)\n",
    "MERRA2.ncAMET(name='MERRA2')"
   ]
  }
 ],
 "metadata": {
  "kernelspec": {
   "display_name": "Python 3",
   "language": "python",
   "name": "python3"
  },
  "language_info": {
   "codemirror_mode": {
    "name": "ipython",
    "version": 3
   },
   "file_extension": ".py",
   "mimetype": "text/x-python",
   "name": "python",
   "nbconvert_exporter": "python",
   "pygments_lexer": "ipython3",
   "version": "3.6.5"
  }
 },
 "nbformat": 4,
 "nbformat_minor": 2
}

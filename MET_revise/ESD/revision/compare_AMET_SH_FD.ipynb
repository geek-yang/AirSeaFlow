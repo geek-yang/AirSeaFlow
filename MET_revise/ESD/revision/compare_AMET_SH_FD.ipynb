{
 "cells": [
  {
   "cell_type": "markdown",
   "metadata": {},
   "source": [
    "# Copyright Netherlands eScience Center <br>\n",
    "** Function     : Compare atmospheric meridional energy transport (MERRA2,ERA-Interim,JRA55)** <br>\n",
    "** Author       : Yang Liu ** <br>\n",
    "** First Built  : 2019.04.06 ** <br>\n",
    "** Last Update  : 2019.04.06 ** <br>\n",
    "Description     : The code aims to compare the atmospheric meridional energy transport\n",
    "                  calculated from different atmospheric reanalysis datasets. In this,\n",
    "                  case, this includes MERRA II from NASA, ERA-Interim from ECMWF and\n",
    "                  JRA55 from JMA.<br>\n",
    "\n",
    "Return Value    : NetCFD4 data file<br>\n",
    "Dependencies    : os, time, numpy, netCDF4, sys, matplotlib, logging<br>\n",
    "variables       : Atmospheric Meridional Energy Transport   ERA-Interim     MERRA2       JRA55<br>\n",
    "                  Oceanic Meridional Energy Transport       ORAS4           GLORYS2V3    SODA3<br>\n",
    "Caveat!!        : Spatial and temporal coverage<br>\n",
    "                  Atmosphere<br>\n",
    "                  ERA-Interim   1979 - 2016<br>\n",
    "                  MERRA2        1980 - 2016<br>\n",
    "                  JRA55         1979 - 2015<br>\n",
    "                  Ocean<br>\n",
    "                  GLORYS2V3     1993 - 2014<br>\n",
    "                  ORAS4         1958 - 2014<br>\n",
    "                  SODA3         1980 - 2015<br>\n",
    "                  NEMO ORCA0083 1979 - 2012<br>\n",
    "                  The full dataset of ORAS4 is from 1958. However, a quality report from\n",
    "                  Magdalena from ECMWF indicates the quality of data for the first\n",
    "                  two decades are very poor. Hence we use the data from 1979. which\n",
    "                  is the start of satellite era.<br>\n",
    "                  The full dataset of ORAS4 is from 1958.<br>\n",
    "                  Data from 20N - 90N are taken into account!<br>"
   ]
  },
  {
   "cell_type": "code",
   "execution_count": 1,
   "metadata": {},
   "outputs": [],
   "source": [
    "import sys\n",
    "sys.path.append(\"/home/ESLT0068/NLeSC/Computation_Modeling/Bjerknes/Scripts/META\")\n",
    "import numpy as np\n",
    "import time as tttt\n",
    "from netCDF4 import Dataset,num2date\n",
    "import os\n",
    "import platform\n",
    "import sys\n",
    "import logging\n",
    "import matplotlib\n",
    "from mpl_toolkits.mplot3d import Axes3D\n",
    "# generate images without having a window appear\n",
    "#matplotlib.use('Agg')\n",
    "import matplotlib.pyplot as plt\n",
    "import pandas\n",
    "from scipy import stats"
   ]
  },
  {
   "cell_type": "code",
   "execution_count": 2,
   "metadata": {},
   "outputs": [],
   "source": [
    "# constants\n",
    "constant = {'g' : 9.80616,      # gravititional acceleration [m / s2]\n",
    "            'R' : 6371009,      # radius of the earth [m]\n",
    "            'cp': 1004.64,      # heat capacity of air [J/(Kg*K)]\n",
    "            'Lv': 2264670,      # Latent heat of vaporization [J/Kg]\n",
    "            'R_dry' : 286.9,    # gas constant of dry air [J/(kg*K)]\n",
    "            'R_vap' : 461.5,    # gas constant for water vapour [J/(kg*K)]\n",
    "            }"
   ]
  },
  {
   "cell_type": "code",
   "execution_count": 37,
   "metadata": {},
   "outputs": [],
   "source": [
    "################################   Input zone  ######################################\n",
    "# specify data path\n",
    "datapath_ERAI_netcdf_SH = '/home/ESLT0068/WorkFlow/Core_Database_AMET_OMET_reanalysis/warehouse_met/SphericalHarmonics/ERA-Interim/FixedG'\n",
    "datapath_ERAI_grib_SH = '/home/ESLT0068/WorkFlow/Core_Database_AMET_OMET_reanalysis/warehouse_met/SphericalHarmonics/ERA-Interim/GaussianG'\n",
    "datapath_ERAI_FD = '/home/ESLT0068/WorkFlow/Core_Database_AMET_OMET_reanalysis/ERAI/postprocessing'\n",
    "datapath_ERAI_Mayer = '/home/ESLT0068/WorkFlow/Core_Database_AMET_OMET_reanalysis/warehouse_met/From_Michael'\n",
    "#datapath_MERRA2 = '/home/yang/workbench/Core_Database_AMET_OMET_reanalysis/MERRA2/postprocessing'\n",
    "#datapath_MERRA2 = '/home/ESLT0068/WorkFlow/Core_Database_AMET_OMET_reanalysis/MERRA2/postprocessing'\n",
    "datapath_JRA55_SH = '/home/ESLT0068/WorkFlow/Core_Database_AMET_OMET_reanalysis/warehouse_met/SphericalHarmonics/JRA55/GaussianG'\n",
    "datapath_JRA55_FD = '/home/ESLT0068/WorkFlow/Core_Database_AMET_OMET_reanalysis/JRA55/postprocessing'\n",
    "datapath_JRA55_Mayer = '/home/ESLT0068/WorkFlow/Core_Database_AMET_OMET_reanalysis/warehouse_met/From_Michael'\n",
    "# specify output path for the netCDF4 file\n",
    "output_path = '/home/ESLT0068/NLeSC/PhD/Paperwork/Article/AMET_OMET/ESD/figures/review/SH_FH'\n",
    "#output_path = '/home/ESLT0068/WorkFlow/Core_Database_AMET_OMET_reanalysis/warehouse_met/SphericalHarmonics'"
   ]
  },
  {
   "cell_type": "code",
   "execution_count": 4,
   "metadata": {},
   "outputs": [],
   "source": [
    "# 60N only for clipped fields (20N-90N)\n",
    "lat_ERAI_60 = 40\n",
    "lat_MERRA2_60 = 80\n",
    "lat_JRA55_60 = 52\n",
    "\n",
    "# make a dictionary for instereted sections (for process automation)\n",
    "lat_interest = {}\n",
    "lat_interest_list = [60]\n",
    "lat_interest['ERAI'] = [lat_ERAI_60]\n",
    "lat_interest['MERRA2'] = [lat_MERRA2_60]\n",
    "lat_interest['JRA55'] = [lat_JRA55_60]"
   ]
  },
  {
   "cell_type": "code",
   "execution_count": 7,
   "metadata": {},
   "outputs": [],
   "source": [
    "################################   extract fields  ######################################\n",
    "dataset_ERAI_FD = Dataset(os.path.join(datapath_ERAI_FD,'model_daily_075_1979_2016_E_zonal_int.nc'))\n",
    "dataset_ERAI_netcdf_SH = Dataset(os.path.join(datapath_ERAI_netcdf_SH,'era_model_subdaily_2001_2010_amet.nc'))\n",
    "dataset_ERAI_grib_SH = Dataset(os.path.join(datapath_ERAI_grib_SH,'era_model_subdaily_2005_amet_point.nc'))\n",
    "dataset_ERAI_Mayer_point = Dataset(os.path.join(datapath_ERAI_Mayer,'erai_TEDIV_dirc_wo_vapour_2005-2005_T63.nc'))\n",
    "#dataset_MERRA2 = Dataset(datapath_MERRA2 + os.sep + 'AMET_MERRA2_model_daily_1980_2016_E_zonal_int.nc')\n",
    "dataset_JRA55_SH = Dataset(os.path.join(datapath_JRA55_SH,'jra_model_subdaily_2005_amet_point.nc'))\n",
    "dataset_JRA55_FD = Dataset(os.path.join(datapath_JRA55_FD,'AMET_JRA55_model_daily_1979_2015_E_zonal_int.nc'))\n",
    "\n",
    "#dataset_ERAI_point = Dataset(datapath_ERAI + os.sep + 'model_daily_075_1979_2016_E_point.nc')\n",
    "\n",
    "#dataset_MERRA2_point = Dataset(datapath_MERRA2 + os.sep + 'AMET_MERRA2_model_daily_1980_2016_E_point.nc')\n",
    "#dataset_JRA55_point = Dataset(datapath_JRA55 + os.sep + 'AMET_JRA55_model_daily_1979_2015_E_point.nc')\n",
    "dataset_JRA55_Mayer_point = Dataset(os.path.join(datapath_JRA55_Mayer, 'jra55_TEDIV_dirc_wo_vapour_2005-2005_T63.nc'))\n",
    "\n",
    "# from 1979 to 2016\n",
    "# from 20N - 90N\n",
    "# total energy transport\n",
    "AMET_E_ERAI_FD = dataset_ERAI_FD.variables['E'][22:32,:,:]/1000 # from Tera Watt to Peta Watt\n",
    "AMET_E_ERAI_netcdf_SH = dataset_ERAI_netcdf_SH.variables['E_int'][:,:,:]/1000\n",
    "AMET_E_ERAI_grib_SH_point = dataset_ERAI_grib_SH.variables['E'][:,:,:]/1000 # from Tera Watt to Peta Watt\n",
    "AMET_E_ERAI_grib_SH = np.sum(AMET_E_ERAI_grib_SH_point,2)\n",
    "#AMET_E_MERRA2 = dataset_MERRA2.variables['E'][:,:,80]/1000 # from Tera Watt to Peta Watt\n",
    "AMET_E_JRA55_FD = dataset_JRA55_FD.variables['E'][22:32,:,]/1000 # from Tera Watt to Peta Watt\n",
    "AMET_E_JRA55_SH_point = dataset_JRA55_SH.variables['E'][:,:,:]/1000 # from Tera Watt to Peta Watt\n",
    "AMET_E_JRA55_SH = np.sum(AMET_E_JRA55_SH_point,2)\n",
    "# point\n",
    "#AMET_E_ERAI_point = dataset_ERAI_point.variables['E'][:,:,40,:]/1000 # from Tera Watt to Peta Watt\n",
    "AMET_E_ERAI_Mayer_flux = dataset_ERAI_Mayer_point.variables['TEDIV_novap_ms'][:,:,:] # year 2005\n",
    "#AMET_E_MERRA2_point = dataset_MERRA2_point.variables['E'][:,:,80,:]/1000 # from Tera Watt to Peta Watt\n",
    "#AMET_E_JRA55_point = dataset_JRA55_point.variables['E'][:,:,:,:]/1000 # from Tera Watt to Peta Watt\n",
    "# from Mayer\n",
    "AMET_E_JRA55_Mayer_flux = dataset_JRA55_Mayer_point.variables['TEDIV_dirc_novap_ms'][:,:,:] # year 2005\n",
    "\n",
    "year_ERAI_netcdf_SH = dataset_ERAI_netcdf_SH.variables['year'][:]        # from 2001 to 2010\n",
    "year_ERAI_FD = dataset_ERAI_FD.variables['year'][22:32]    # from 2001 to 2010\n",
    "#year_MERRA2 = dataset_MERRA2.variables['year'][:]    # from 1980 to 2016\n",
    "year_JRA55_FD = dataset_JRA55_FD.variables['year'][22:32]      # from 1979 to 2015\n",
    "#year_JRA55_SH = dataset_JRA55_SH.variables['year'][:]\n",
    "\n",
    "latitude_ERAI_FD = dataset_ERAI_FD.variables['latitude'][:]\n",
    "latitude_ERAI_netcdf_SH = dataset_ERAI_netcdf_SH.variables['latitude'][:]\n",
    "latitude_ERAI_grib_SH = dataset_ERAI_grib_SH.variables['latitude'][:]\n",
    "latitude_ERAI_Mayer = dataset_ERAI_Mayer_point.variables['lat'][:]\n",
    "\n",
    "#latitude_MERRA2 = dataset_MERRA2.variables['latitude'][:]\n",
    "latitude_JRA55_FD = dataset_JRA55_FD.variables['latitude'][:]\n",
    "latitude_JRA55_SH = dataset_JRA55_SH.variables['latitude'][:]\n",
    "latitude_JRA55_Mayer = dataset_JRA55_Mayer_point.variables['lat'][:]\n",
    "\n",
    "#longitude_ERAI = dataset_ERAI_point.variables['longitude'][:]\n",
    "longitude_ERAI_Mayer = dataset_ERAI_Mayer_point.variables['lon'][:]\n",
    "#longitude_MERRA2 = dataset_MERRA2_point.variables['longitude'][:]\n",
    "#longitude_JRA55 = dataset_JRA55_point.variables['longitude'][:]\n",
    "longitude_JRA55_Mayer = dataset_JRA55_Mayer_point.variables['lon'][:]"
   ]
  },
  {
   "cell_type": "code",
   "execution_count": 20,
   "metadata": {},
   "outputs": [
    {
     "name": "stdout",
     "output_type": "stream",
     "text": [
      "[]\n",
      "59.99981146099586\n"
     ]
    }
   ],
   "source": [
    "#print (latitude_ERAI_SH[200:205])\n",
    "#print (latitude_MERRA2[80])\n",
    "print(year_ERAI_FD[22:32])\n",
    "\n",
    "#print(latitude_JRA55_SH[264:270])\n",
    "#print(latitude_JRA55_Mayer)\n",
    "print(latitude_ERAI_Mayer[213])"
   ]
  },
  {
   "cell_type": "code",
   "execution_count": 8,
   "metadata": {},
   "outputs": [],
   "source": [
    "################################   apply area weight to flux  ######################################\n",
    "########### ERA-I\n",
    "dx_era = 2 * np.pi * constant['R'] * np.cos(2 * np.pi * latitude_ERAI_Mayer / 360) / len(longitude_ERAI_Mayer)\n",
    "dy_era = np.pi * constant['R'] / (len(latitude_ERAI_Mayer)+1)\n",
    "area_grid_era = np.zeros((len(latitude_ERAI_Mayer),len(longitude_ERAI_Mayer)),dtype=float)\n",
    "for i in np.arange(len(latitude_ERAI_Mayer)):\n",
    "    # change the unit to terawatt\n",
    "    area_grid_era[i,:] = dx_era[i] * dy_era\n",
    "area_cap_era = np.zeros(latitude_ERAI_Mayer.shape,dtype=float)\n",
    "for i in np.arange(len(latitude_ERAI_Mayer)//2):\n",
    "    area_cap_era[i] = np.sum(np.sum(area_grid_era[:i+1,:],1),0) / 1E+6 # km2\n",
    "    area_cap_era[len(latitude_ERAI_Mayer)-i-1] = area_cap_era[i]\n",
    "#print (area_cap)\n",
    "\n",
    "AMET_E_ERAI_Mayer_point = np.zeros(AMET_E_ERAI_Mayer_flux.shape,dtype=float)\n",
    "#for i in np.arange(len(latitude_ERAI_Mayer)):\n",
    "#    AMET_E_ERAI_Mayer_point[:,i,:] = AMET_E_ERAI_Mayer_flux[:,i,:] * area_cap[i] / len(longitude_ERAI_Mayer) / 1E+6 # tera watt\n",
    "for i in np.arange(len(latitude_ERAI_Mayer)):\n",
    "    AMET_E_ERAI_Mayer_point[:,i,:] = AMET_E_ERAI_Mayer_flux[:,i,:] * area_grid_era[i,0]\n",
    "\n",
    "AMET_E_ERAI_Mayer_int = np.zeros((12,len(latitude_ERAI_Mayer)),dtype=float)\n",
    "for i in np.arange(len(latitude_ERAI_Mayer)):\n",
    "    AMET_E_ERAI_Mayer_int[:,i] = np.sum(np.sum(AMET_E_ERAI_Mayer_point[:,:i+1,:],2),1) / 1E+15\n",
    "\n",
    "########### JRA55\n",
    "dx_jra = 2 * np.pi * constant['R'] * np.cos(2 * np.pi * latitude_JRA55_Mayer / 360) / len(longitude_JRA55_Mayer)\n",
    "dy_jra = np.pi * constant['R'] / (len(latitude_JRA55_Mayer)+1)\n",
    "area_grid_jra = np.zeros((len(latitude_JRA55_Mayer),len(longitude_JRA55_Mayer)),dtype=float)\n",
    "for i in np.arange(len(latitude_JRA55_Mayer)):\n",
    "    # change the unit to terawatt\n",
    "    area_grid_jra[i,:] = dx_jra[i] * dy_jra\n",
    "area_cap_jra = np.zeros(latitude_JRA55_Mayer.shape,dtype=float)\n",
    "for i in np.arange(len(latitude_JRA55_Mayer)//2):\n",
    "    area_cap_jra[i] = np.sum(np.sum(area_grid_jra[:i+1,:],1),0) / 1E+6 # km2\n",
    "    area_cap_jra[len(latitude_JRA55_Mayer)-i-1] = area_cap_jra[i]\n",
    "#print (area_cap)\n",
    "\n",
    "AMET_E_JRA55_Mayer_point = np.zeros(AMET_E_JRA55_Mayer_flux.shape,dtype=float)\n",
    "#for i in np.arange(len(latitude_JRA55_Mayer)):\n",
    "#    AMET_E_JRA55_Mayer_point[:,i,:] = AMET_E_JRA55_Mayer_flux[:,i,:] * area_cap[i] / len(longitude_JRA55_Mayer) / 1E+6 # tera watt\n",
    "for i in np.arange(len(latitude_JRA55_Mayer)):\n",
    "    AMET_E_JRA55_Mayer_point[:,i,:] = AMET_E_JRA55_Mayer_flux[:,i,:] * area_grid_jra[i,0]\n",
    "\n",
    "AMET_E_JRA55_Mayer_int = np.zeros((12,len(latitude_JRA55_Mayer)),dtype=float)\n",
    "for i in np.arange(len(latitude_JRA55_Mayer)):\n",
    "    AMET_E_JRA55_Mayer_int[:,i] = np.sum(np.sum(AMET_E_JRA55_Mayer_point[:,:i+1,:],2),1) / 1E+15\n",
    "#AMET_E_JRA55_Mayer_int = np.sum(AMET_E_JRA55_Mayer_point,2)"
   ]
  },
  {
   "cell_type": "code",
   "execution_count": 10,
   "metadata": {},
   "outputs": [
    {
     "data": {
      "text/plain": [
       "[<matplotlib.lines.Line2D at 0x7fe09c850400>]"
      ]
     },
     "execution_count": 10,
     "metadata": {},
     "output_type": "execute_result"
    },
    {
     "data": {
      "image/png": "[encoded data removed]",
      "text/plain": [
       "<Figure size 432x288 with 1 Axes>"
      ]
     },
     "metadata": {},
     "output_type": "display_data"
    }
   ],
   "source": [
    "plt.plot(latitude_JRA55_Mayer, np.mean(AMET_E_JRA55_Mayer_int,0))\n",
    "plt.plot(latitude_ERAI_Mayer,np.mean(AMET_E_ERAI_Mayer_int,0))"
   ]
  },
  {
   "cell_type": "code",
   "execution_count": 42,
   "metadata": {},
   "outputs": [
    {
     "data": {
      "image/png": "[encoded data removed]",
      "text/plain": [
       "<Figure size 432x288 with 1 Axes>"
      ]
     },
     "metadata": {},
     "output_type": "display_data"
    }
   ],
   "source": [
    "# check annual mean\n",
    "# annual_mean_ERAI_SH = np.mean(np.mean(AMET_E_ERAI_SH[5,:,:],0),0)\n",
    "# annual_mean_ERAI_FD = np.mean(np.mean(AMET_E_ERAI_FD[5,:,:],0),0)\n",
    "\n",
    "# annual_mean_JRA55_SH = np.mean(np.mean(AMET_E_JRA55_SH,0),0)\n",
    "# annual_mean_JRA55_FD = np.mean(np.mean(AMET_E_JRA55_FD[5,:,:],0),0)\n",
    "\n",
    "annual_mean_ERAI_netcdf_SH = np.mean(AMET_E_ERAI_netcdf_SH[4,:,:],0)\n",
    "annual_mean_ERAI_FD = np.mean(AMET_E_ERAI_FD[4,:,:],0)\n",
    "annual_mean_ERAI_grib_SH = np.mean(AMET_E_ERAI_grib_SH[:],0)\n",
    "\n",
    "annual_mean_JRA55_SH = np.mean(AMET_E_JRA55_SH,0)\n",
    "annual_mean_JRA55_FD = np.mean(AMET_E_JRA55_FD[4,:,:],0)\n",
    "\n",
    "fig00 = plt.figure()\n",
    "#plt.plot(latitude_ERAI_netcdf_SH, annual_mean_ERAI_netcdf_SH,'b--', label='era netcdf sh')\n",
    "plt.plot(latitude_ERAI_grib_SH, annual_mean_ERAI_grib_SH,'b-', label='era grib sh')\n",
    "#plt.plot(latitude_ERAI_FD, annual_mean_ERAI_FD,'b:', label='era fd')\n",
    "plt.plot(latitude_ERAI_Mayer, np.mean(AMET_E_ERAI_Mayer_int,0),'g--',label='era reviewer')\n",
    "plt.plot(latitude_JRA55_SH, annual_mean_JRA55_SH,'r-', label='jra sh')\n",
    "#plt.plot(latitude_JRA55_FD, annual_mean_JRA55_FD,'r:', label='jra fd')\n",
    "plt.plot(latitude_JRA55_Mayer, np.mean(AMET_E_JRA55_Mayer_int,0),'g:',label='jra reviewer')\n",
    "plt.xlabel(\"Latitude\")\n",
    "plt.ylabel(\"AMET (PW)\")\n",
    "plt.legend()\n",
    "fig00.savefig(os.path.join(output_path,'AMET_SH_FH_annual_mean_span_noFD.png'), dpi = 300)"
   ]
  },
  {
   "cell_type": "code",
   "execution_count": 26,
   "metadata": {},
   "outputs": [],
   "source": [
    "# check climatology\n",
    "#AMET_season_series = meta.statistics.operator(AMET_E_ERAI_SH[:,:,200], Dim_month=True)    \n",
    "#stat_AMET_ERAI = meta.statistics.operator(AMET_season_series[2:-1])\n",
    "#stat_AMET_ERAI.anomaly(Dim_month=False)\n",
    "#stat_AMET_ERAI.lowpass(window=30, obj='anomaly')\n",
    "\n",
    "month_ind = np.arange(12)\n",
    "# dimension of AMET[year,month]\n",
    "# total energy transport\n",
    "AMET_E_ERAI_netcdf_SH_seansonal_cycle = np.mean(AMET_E_ERAI_netcdf_SH[:],axis=0)\n",
    "AMET_E_ERAI_netcdf_SH_white = np.zeros(AMET_E_ERAI_netcdf_SH.shape,dtype=float)\n",
    "for i in np.arange(len(year_ERAI_netcdf_SH)):\n",
    "    for j in month_ind:\n",
    "        AMET_E_ERAI_netcdf_SH_white[i,j,:] = AMET_E_ERAI_netcdf_SH[i,j,:] - AMET_E_ERAI_netcdf_SH_seansonal_cycle[j,:]\n",
    "\n",
    "AMET_E_ERAI_FD_seansonal_cycle = np.mean(AMET_E_ERAI_FD[:],axis=0)\n",
    "AMET_E_ERAI_FD_white = np.zeros(AMET_E_ERAI_FD.shape,dtype=float)\n",
    "for i in np.arange(len(year_ERAI_FD)):\n",
    "    for j in month_ind:\n",
    "        AMET_E_ERAI_FD_white[i,j,:] = AMET_E_ERAI_FD[i,j,:] - AMET_E_ERAI_FD_seansonal_cycle[j,:]"
   ]
  },
  {
   "cell_type": "code",
   "execution_count": 29,
   "metadata": {},
   "outputs": [],
   "source": [
    "AMET_E_ERAI_netcdf_SH_series = AMET_E_ERAI_netcdf_SH.reshape(len(year_ERAI_netcdf_SH)*len(month_ind),len(latitude_ERAI_netcdf_SH))\n",
    "AMET_E_ERAI_FD_series = AMET_E_ERAI_FD.reshape(len(year_ERAI_FD)*len(month_ind),len(latitude_ERAI_FD))\n",
    "AMET_E_ERAI_grib_SH_series = AMET_E_ERAI_grib_SH\n",
    "#AMET_E_JRA55_SH_series = AMET_E_JRA55_SH.reshape(len(year_JRA55_SH)*len(month_ind),len(latitude_JRA55_SH))\n",
    "AMET_E_JRA55_SH_series = AMET_E_JRA55_SH\n",
    "AMET_E_JRA55_FD_series = AMET_E_JRA55_FD.reshape(len(year_JRA55_FD)*len(month_ind),len(latitude_JRA55_FD))"
   ]
  },
  {
   "cell_type": "code",
   "execution_count": 43,
   "metadata": {},
   "outputs": [
    {
     "data": {
      "image/png": "[encoded data removed]",
      "text/plain": [
       "<Figure size 432x288 with 1 Axes>"
      ]
     },
     "metadata": {},
     "output_type": "display_data"
    }
   ],
   "source": [
    "fig01 = plt.figure()\n",
    "#plt.plot(AMET_E_ERAI_netcdf_SH_series[48:60,200],'b--', label='era netcdf sh')\n",
    "#plt.plot(AMET_E_ERAI_FD_series[48:60,40],'b:', label='era fd')\n",
    "plt.plot(AMET_E_ERAI_grib_SH_series[:,213],'b-', label='era grib sh')\n",
    "plt.plot(AMET_E_ERAI_Mayer_int[:,213],'g--',label='era reviewer')\n",
    "plt.plot(AMET_E_JRA55_SH_series[:,267],'r-', label='jra sh')\n",
    "#plt.plot(AMET_E_JRA55_FD_series[48:60,53],'r:',label='jra fd')\n",
    "plt.plot(AMET_E_JRA55_Mayer_int[:,267],'g:',label='jra reviewer')\n",
    "plt.legend()\n",
    "#plt.xticks(np.arange(1,13,1))\n",
    "plt.xlabel(\"Month\")\n",
    "plt.ylabel(\"AMET (PW)\")\n",
    "fig01.savefig(os.path.join(output_path,'AMET_SH_FH_60N_series_noFD.png'), dpi = 300)"
   ]
  },
  {
   "cell_type": "code",
   "execution_count": 21,
   "metadata": {},
   "outputs": [],
   "source": [
    "# devided by area\n",
    "dx_ERAI = 2 * np.pi * constant['R'] * np.cos(2 * np.pi * latitude_ERAI / 360) / len(longitude_ERAI)\n",
    "dx_MERRA2 = 2 * np.pi * constant['R'] * np.cos(2 * np.pi * latitude_MERRA2 / 360) / len(longitude_MERRA2)\n",
    "dx_JRA55 = 2 * np.pi * constant['R'] * np.cos(2 * np.pi * latitude_JRA55 / 360) / len(longitude_JRA55)\n",
    "\n",
    "dy_ERAI = np.pi * constant['R'] / (240)\n",
    "#dy_MERRA2 = np.pi * constant['R'] / (240)\n",
    "dy_JRA55 = np.pi * constant['R'] / (320)\n",
    "\n",
    "area_box = dx_JRA55 * dy_JRA55\n",
    "\n",
    "# calculate area weighted AMET by Mayer\n",
    "AMET_E_JRA55_Mayer_point_area = np.zeros(AMET_E_JRA55_Mayer_point.shape, dtype=float)\n",
    "\n",
    "for i in np.arange(len(latitude_JRA55)):\n",
    "    # change the unit to terawatt\n",
    "    AMET_E_JRA55_Mayer_point_area[:,i,:] = AMET_E_JRA55_Mayer_point[:,i,:] * dx_JRA55[i] * dy_JRA55 / 1E+12\n",
    "\n",
    "#AMET_E_ERAI_point_noA = AMET_E_ERAI_point / 2 * np.pi * constant['R'] * np.cos(2 * np.pi * latitude_ERAI[40] / 360)\n",
    "#AMET_E_MERRA2_point_noA = AMET_E_MERRA2_point * 1E+12 / dx_MERRA2[80] / dy_MERRA2\n",
    "#AMET_E_JRA55_point_noA = AMET_E_JRA55_point / 2 * np.pi * constant['R'] * np.cos(2 * np.pi * latitude_JRA55[53] / 360)"
   ]
  },
  {
   "cell_type": "code",
   "execution_count": 25,
   "metadata": {},
   "outputs": [
    {
     "data": {
      "text/plain": [
       "<matplotlib.contour.QuadContourSet at 0x7f0e77f843c8>"
      ]
     },
     "execution_count": 25,
     "metadata": {},
     "output_type": "execute_result"
    },
    {
     "data": {
      "image/png": "[encoded data removed]",
      "text/plain": [
       "<Figure size 432x288 with 1 Axes>"
      ]
     },
     "metadata": {},
     "output_type": "display_data"
    }
   ],
   "source": [
    "AMET_E_JRA55_div = np.zeros(AMET_E_JRA55_point[26,:,:,:].shape,dtype=float)\n",
    "AMET_E_JRA55_div[:,0,:] = AMET_E_JRA55_point[26,:,0,:]\n",
    "AMET_E_JRA55_div[:,1:,:] = AMET_E_JRA55_point[26,:,1:,:] - AMET_E_JRA55_point[26,:,0:-1,:]\n",
    "AMET_E_JRA55_flux = np.zeros(AMET_E_JRA55_div[:].shape,dtype=float)\n",
    "for i in np.arange(len(area_box)):\n",
    "    AMET_E_JRA55_flux[:,i,:] = AMET_E_JRA55_div[:,i,:] / area_box[i]\n",
    "plt.contourf(AMET_E_JRA55_flux[0,::-1,:])"
   ]
  },
  {
   "cell_type": "code",
   "execution_count": null,
   "metadata": {},
   "outputs": [],
   "source": [
    "# calculate the standard deviation of AMET\n",
    "# ERA-Interim\n",
    "AMET_E_ERAI_std = np.std(AMET_E_ERAI[:],0)\n",
    "print ('The standard deviation of AMET from ERA-Interim is (in peta Watt):')\n",
    "print (AMET_E_ERAI_std)\n",
    "# JRA55\n",
    "AMET_E_JRA55_std = np.std(AMET_E_JRA55[:],0)\n",
    "print ('The standard deviation of AMET from JRA55 is (in peta Watt):')\n",
    "print (AMET_E_JRA55_std)"
   ]
  },
  {
   "cell_type": "code",
   "execution_count": null,
   "metadata": {},
   "outputs": [],
   "source": [
    "AMET_ERAI_full_annual_mean_max = np.amax(AMET_E_ERAI,0)\n",
    "AMET_JRA55_full_annual_mean_max = np.amax(AMET_E_JRA55,0)\n",
    "\n",
    "AMET_ERAI_full_annual_mean_min = np.amin(AMET_E_ERAI,0)\n",
    "AMET_JRA55_full_annual_mean_min = np.amin(AMET_E_JRA55,0)"
   ]
  },
  {
   "cell_type": "code",
   "execution_count": null,
   "metadata": {},
   "outputs": [],
   "source": [
    "fig9= plt.figure()\n",
    "plt.plot(np.arange(12),np.sum(np.mean(AMET_E_ERAI_point_noA[:],0),1),'b-.',linewidth=2.0,label='ERA-Interim')\n",
    "plt.plot(np.arange(12),np.sum(np.mean(AMET_E_JRA55_point_noA[:],0),1),'g:',linewidth=2.0,label='JRA55')\n",
    "#plt.title('Running Mean of AMET Anomalies at %dN with a window of %d months' % (lat_interest_list[i],window))\n",
    "fig9.set_size_inches(12.5, 6)\n",
    "plt.xlabel(\"Time\",fontsize=16)\n",
    "#plt.xticks(np.linspace(0, 456, 39), year_ERAI)\n",
    "#plt.xticks(rotation=60)\n",
    "plt.ylabel(\"Meridional Energy Transport (W/m2)\",fontsize=16)\n",
    "\n",
    "plt.legend(frameon=True, loc=2, prop={'size': 14})\n",
    "plt.show()\n",
    "fig9.savefig(output_path + os.sep + 'Comp_AMET_wm2.png', dpi = 300)\n",
    "plt.close(fig9)"
   ]
  },
  {
   "cell_type": "code",
   "execution_count": null,
   "metadata": {},
   "outputs": [],
   "source": [
    "fig9= plt.figure()\n",
    "plt.plot(np.arange(12),np.mean(AMET_E_ERAI[:],0),'b-.',linewidth=2.0,label='ERA-Interim')\n",
    "plt.fill_between(np.arange(12),AMET_ERAI_full_annual_mean_max,AMET_ERAI_full_annual_mean_min,alpha=0.3,edgecolor='lightskyblue', facecolor='lightskyblue')\n",
    "#plt.plot(index_1980_2016[window-1:],AMET_E_JRA55_60_white_running_mean,'m-',linewidth=2.0,label='JRA_60')\n",
    "plt.plot(np.arange(12),np.mean(AMET_E_JRA55[:],0),'g:',linewidth=2.0,label='JRA55')\n",
    "plt.fill_between(np.arange(12),AMET_JRA55_full_annual_mean_max,AMET_JRA55_full_annual_mean_min,alpha=0.3,edgecolor='lightgreen', facecolor='lightgreen')\n",
    "#plt.title('Running Mean of AMET Anomalies at %dN with a window of %d months' % (lat_interest_list[i],window))\n",
    "fig9.set_size_inches(12.5, 6)\n",
    "plt.xlabel(\"Time\",fontsize=16)\n",
    "plt.xticks(np.arange(12),np.linspace(1, 12, 12))\n",
    "#plt.xticks(rotation=60)\n",
    "plt.yticks(np.arange(-8,7,2))\n",
    "plt.ylabel(\"Meridional Energy Transport (PW)\",fontsize=16)\n",
    "\n",
    "plt.legend(frameon=True, loc=2, prop={'size': 14})\n",
    "plt.show()\n",
    "fig9.savefig(output_path + os.sep + 'Comp_AMET_annual_cycle.png', dpi = 300)\n",
    "plt.close(fig9)"
   ]
  },
  {
   "cell_type": "code",
   "execution_count": null,
   "metadata": {},
   "outputs": [],
   "source": [
    "AMET_E_JRA55_series = AMET_E_JRA55.reshape(len(year_JRA55)*12)\n",
    "AMET_E_JRA55_series_int_polar = AMET_E_JRA55_int_polar.reshape(len(year_JRA55)*12)\n",
    "\n",
    "fig2= plt.figure()\n",
    "plt.plot(np.arange(len(AMET_E_JRA55_series)),AMET_E_JRA55_series,'b--',linewidth=2.0,label='JRA55 sum')\n",
    "plt.plot(np.arange(len(AMET_E_JRA55_series_int_polar)),AMET_E_JRA55_series_int_polar,'g-.',linewidth=2.0,label='JRA55 int')\n",
    "plt.legend(frameon=True, loc=2, prop={'size': 14})\n",
    "plt.show()\n",
    "fig2.savefig(output_path + os.sep + 'Comp_AMET_int_sum_JRA55.png', dpi = 300)\n",
    "plt.close(fig2)"
   ]
  }
 ],
 "metadata": {
  "kernelspec": {
   "display_name": "Python 3",
   "language": "python",
   "name": "python3"
  },
  "language_info": {
   "codemirror_mode": {
    "name": "ipython",
    "version": 3
   },
   "file_extension": ".py",
   "mimetype": "text/x-python",
   "name": "python",
   "nbconvert_exporter": "python",
   "pygments_lexer": "ipython3",
   "version": "3.6.5"
  }
 },
 "nbformat": 4,
 "nbformat_minor": 2
}
